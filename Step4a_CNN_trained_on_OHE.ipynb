{
  "nbformat": 4,
  "nbformat_minor": 0,
  "metadata": {
    "colab": {
      "provenance": [],
      "gpuType": "T4",
      "machine_shape": "hm",
      "authorship_tag": "ABX9TyPh+xDg2Uz0iI2ePFTBGfah",
      "include_colab_link": true
    },
    "kernelspec": {
      "name": "python3",
      "display_name": "Python 3"
    },
    "language_info": {
      "name": "python"
    },
    "accelerator": "GPU"
  },
  "cells": [
    {
      "cell_type": "markdown",
      "metadata": {
        "id": "view-in-github",
        "colab_type": "text"
      },
      "source": [
        "<a href=\"https://colab.research.google.com/github/atharv946/Chromatin-Accessibility/blob/main/Step4a_CNN_trained_on_OHE.ipynb\" target=\"_parent\"><img src=\"https://colab.research.google.com/assets/colab-badge.svg\" alt=\"Open In Colab\"/></a>"
      ]
    },
    {
      "cell_type": "code",
      "execution_count": null,
      "metadata": {
        "id": "DlGFVRSEqGlp"
      },
      "outputs": [],
      "source": [
        "import numpy as np\n",
        "\n",
        "import pandas as pd\n",
        "\n",
        "from keras import Sequential, Input\n",
        "\n",
        "from keras.layers import Conv2D, MaxPooling2D, Flatten, Dense, Dropout\n",
        "\n",
        "from keras.optimizers import Adam\n",
        "\n",
        "from keras.preprocessing.sequence import pad_sequences"
      ]
    },
    {
      "cell_type": "code",
      "source": [
        "from google.colab import drive\n",
        "drive.mount('/content/drive')"
      ],
      "metadata": {
        "colab": {
          "base_uri": "https://localhost:8080/"
        },
        "id": "WK5IKaB_qTI_",
        "outputId": "15e5f182-50c9-490f-fde1-1473f79f5964"
      },
      "execution_count": null,
      "outputs": [
        {
          "output_type": "stream",
          "name": "stdout",
          "text": [
            "Mounted at /content/drive\n"
          ]
        }
      ]
    },
    {
      "cell_type": "code",
      "source": [],
      "metadata": {
        "id": "1rsSyRuQHWv7"
      },
      "execution_count": null,
      "outputs": []
    },
    {
      "cell_type": "code",
      "source": [],
      "metadata": {
        "id": "sqWDGiITHXa9"
      },
      "execution_count": null,
      "outputs": []
    },
    {
      "cell_type": "code",
      "source": [
        "df_train = pd.read_csv('/content/drive/MyDrive/1:1_Atharv_Gupta/Datasets/joined_train_random_1k.csv')\n",
        "df_val = pd.read_csv('/content/drive/MyDrive/1:1_Atharv_Gupta/Datasets/joined_valid_random_1k.csv')"
      ],
      "metadata": {
        "id": "k_JQUa0dqVfz"
      },
      "execution_count": null,
      "outputs": []
    },
    {
      "cell_type": "code",
      "source": [
        "df_train.head()"
      ],
      "metadata": {
        "colab": {
          "base_uri": "https://localhost:8080/",
          "height": 201
        },
        "id": "B5mQWBjfqaam",
        "outputId": "895e53e4-46c2-4da4-d245-8ee7e1ed8713"
      },
      "execution_count": null,
      "outputs": [
        {
          "output_type": "execute_result",
          "data": {
            "text/plain": [
              "   signalValue                                           sequence  \\\n",
              "0     0.000000  AGATCCTGTGGTAGGAAGGACATTAGTGAGTATGAGGAATGGAAGA...   \n",
              "1     0.000000  NNNNNNNNNNNNNNNNNNNNNNNNNNNNNNNNNNNNNNNNNNNNNN...   \n",
              "2     0.471098  CTTAGAGTATCCGGACTGACACATAGGGAGGAGTGGGCAGAATAGC...   \n",
              "3     1.224850  GGTACAATAGTAAATAAGATAGGTAAGATAGTAACAGACTTAATGG...   \n",
              "4     4.020030  GAACCTGCTGAAATGCTGCAGGGATTTCAGGCAAGTTAGCCTTGGC...   \n",
              "\n",
              "   accessibility  accessibility.1  \n",
              "0            0.0              0.0  \n",
              "1            0.0              0.0  \n",
              "2            1.0              1.0  \n",
              "3            1.0              1.0  \n",
              "4            1.0              1.0  "
            ],
            "text/html": [
              "\n",
              "  <div id=\"df-18bbd276-71b8-4c53-86d2-7fc8dee50649\" class=\"colab-df-container\">\n",
              "    <div>\n",
              "<style scoped>\n",
              "    .dataframe tbody tr th:only-of-type {\n",
              "        vertical-align: middle;\n",
              "    }\n",
              "\n",
              "    .dataframe tbody tr th {\n",
              "        vertical-align: top;\n",
              "    }\n",
              "\n",
              "    .dataframe thead th {\n",
              "        text-align: right;\n",
              "    }\n",
              "</style>\n",
              "<table border=\"1\" class=\"dataframe\">\n",
              "  <thead>\n",
              "    <tr style=\"text-align: right;\">\n",
              "      <th></th>\n",
              "      <th>signalValue</th>\n",
              "      <th>sequence</th>\n",
              "      <th>accessibility</th>\n",
              "      <th>accessibility.1</th>\n",
              "    </tr>\n",
              "  </thead>\n",
              "  <tbody>\n",
              "    <tr>\n",
              "      <th>0</th>\n",
              "      <td>0.000000</td>\n",
              "      <td>AGATCCTGTGGTAGGAAGGACATTAGTGAGTATGAGGAATGGAAGA...</td>\n",
              "      <td>0.0</td>\n",
              "      <td>0.0</td>\n",
              "    </tr>\n",
              "    <tr>\n",
              "      <th>1</th>\n",
              "      <td>0.000000</td>\n",
              "      <td>NNNNNNNNNNNNNNNNNNNNNNNNNNNNNNNNNNNNNNNNNNNNNN...</td>\n",
              "      <td>0.0</td>\n",
              "      <td>0.0</td>\n",
              "    </tr>\n",
              "    <tr>\n",
              "      <th>2</th>\n",
              "      <td>0.471098</td>\n",
              "      <td>CTTAGAGTATCCGGACTGACACATAGGGAGGAGTGGGCAGAATAGC...</td>\n",
              "      <td>1.0</td>\n",
              "      <td>1.0</td>\n",
              "    </tr>\n",
              "    <tr>\n",
              "      <th>3</th>\n",
              "      <td>1.224850</td>\n",
              "      <td>GGTACAATAGTAAATAAGATAGGTAAGATAGTAACAGACTTAATGG...</td>\n",
              "      <td>1.0</td>\n",
              "      <td>1.0</td>\n",
              "    </tr>\n",
              "    <tr>\n",
              "      <th>4</th>\n",
              "      <td>4.020030</td>\n",
              "      <td>GAACCTGCTGAAATGCTGCAGGGATTTCAGGCAAGTTAGCCTTGGC...</td>\n",
              "      <td>1.0</td>\n",
              "      <td>1.0</td>\n",
              "    </tr>\n",
              "  </tbody>\n",
              "</table>\n",
              "</div>\n",
              "    <div class=\"colab-df-buttons\">\n",
              "\n",
              "  <div class=\"colab-df-container\">\n",
              "    <button class=\"colab-df-convert\" onclick=\"convertToInteractive('df-18bbd276-71b8-4c53-86d2-7fc8dee50649')\"\n",
              "            title=\"Convert this dataframe to an interactive table.\"\n",
              "            style=\"display:none;\">\n",
              "\n",
              "  <svg xmlns=\"http://www.w3.org/2000/svg\" height=\"24px\" viewBox=\"0 -960 960 960\">\n",
              "    <path d=\"M120-120v-720h720v720H120Zm60-500h600v-160H180v160Zm220 220h160v-160H400v160Zm0 220h160v-160H400v160ZM180-400h160v-160H180v160Zm440 0h160v-160H620v160ZM180-180h160v-160H180v160Zm440 0h160v-160H620v160Z\"/>\n",
              "  </svg>\n",
              "    </button>\n",
              "\n",
              "  <style>\n",
              "    .colab-df-container {\n",
              "      display:flex;\n",
              "      gap: 12px;\n",
              "    }\n",
              "\n",
              "    .colab-df-convert {\n",
              "      background-color: #E8F0FE;\n",
              "      border: none;\n",
              "      border-radius: 50%;\n",
              "      cursor: pointer;\n",
              "      display: none;\n",
              "      fill: #1967D2;\n",
              "      height: 32px;\n",
              "      padding: 0 0 0 0;\n",
              "      width: 32px;\n",
              "    }\n",
              "\n",
              "    .colab-df-convert:hover {\n",
              "      background-color: #E2EBFA;\n",
              "      box-shadow: 0px 1px 2px rgba(60, 64, 67, 0.3), 0px 1px 3px 1px rgba(60, 64, 67, 0.15);\n",
              "      fill: #174EA6;\n",
              "    }\n",
              "\n",
              "    .colab-df-buttons div {\n",
              "      margin-bottom: 4px;\n",
              "    }\n",
              "\n",
              "    [theme=dark] .colab-df-convert {\n",
              "      background-color: #3B4455;\n",
              "      fill: #D2E3FC;\n",
              "    }\n",
              "\n",
              "    [theme=dark] .colab-df-convert:hover {\n",
              "      background-color: #434B5C;\n",
              "      box-shadow: 0px 1px 3px 1px rgba(0, 0, 0, 0.15);\n",
              "      filter: drop-shadow(0px 1px 2px rgba(0, 0, 0, 0.3));\n",
              "      fill: #FFFFFF;\n",
              "    }\n",
              "  </style>\n",
              "\n",
              "    <script>\n",
              "      const buttonEl =\n",
              "        document.querySelector('#df-18bbd276-71b8-4c53-86d2-7fc8dee50649 button.colab-df-convert');\n",
              "      buttonEl.style.display =\n",
              "        google.colab.kernel.accessAllowed ? 'block' : 'none';\n",
              "\n",
              "      async function convertToInteractive(key) {\n",
              "        const element = document.querySelector('#df-18bbd276-71b8-4c53-86d2-7fc8dee50649');\n",
              "        const dataTable =\n",
              "          await google.colab.kernel.invokeFunction('convertToInteractive',\n",
              "                                                    [key], {});\n",
              "        if (!dataTable) return;\n",
              "\n",
              "        const docLinkHtml = 'Like what you see? Visit the ' +\n",
              "          '<a target=\"_blank\" href=https://colab.research.google.com/notebooks/data_table.ipynb>data table notebook</a>'\n",
              "          + ' to learn more about interactive tables.';\n",
              "        element.innerHTML = '';\n",
              "        dataTable['output_type'] = 'display_data';\n",
              "        await google.colab.output.renderOutput(dataTable, element);\n",
              "        const docLink = document.createElement('div');\n",
              "        docLink.innerHTML = docLinkHtml;\n",
              "        element.appendChild(docLink);\n",
              "      }\n",
              "    </script>\n",
              "  </div>\n",
              "\n",
              "\n",
              "<div id=\"df-0bd79406-9278-4e01-8d8e-e143c5ae93c3\">\n",
              "  <button class=\"colab-df-quickchart\" onclick=\"quickchart('df-0bd79406-9278-4e01-8d8e-e143c5ae93c3')\"\n",
              "            title=\"Suggest charts\"\n",
              "            style=\"display:none;\">\n",
              "\n",
              "<svg xmlns=\"http://www.w3.org/2000/svg\" height=\"24px\"viewBox=\"0 0 24 24\"\n",
              "     width=\"24px\">\n",
              "    <g>\n",
              "        <path d=\"M19 3H5c-1.1 0-2 .9-2 2v14c0 1.1.9 2 2 2h14c1.1 0 2-.9 2-2V5c0-1.1-.9-2-2-2zM9 17H7v-7h2v7zm4 0h-2V7h2v10zm4 0h-2v-4h2v4z\"/>\n",
              "    </g>\n",
              "</svg>\n",
              "  </button>\n",
              "\n",
              "<style>\n",
              "  .colab-df-quickchart {\n",
              "      --bg-color: #E8F0FE;\n",
              "      --fill-color: #1967D2;\n",
              "      --hover-bg-color: #E2EBFA;\n",
              "      --hover-fill-color: #174EA6;\n",
              "      --disabled-fill-color: #AAA;\n",
              "      --disabled-bg-color: #DDD;\n",
              "  }\n",
              "\n",
              "  [theme=dark] .colab-df-quickchart {\n",
              "      --bg-color: #3B4455;\n",
              "      --fill-color: #D2E3FC;\n",
              "      --hover-bg-color: #434B5C;\n",
              "      --hover-fill-color: #FFFFFF;\n",
              "      --disabled-bg-color: #3B4455;\n",
              "      --disabled-fill-color: #666;\n",
              "  }\n",
              "\n",
              "  .colab-df-quickchart {\n",
              "    background-color: var(--bg-color);\n",
              "    border: none;\n",
              "    border-radius: 50%;\n",
              "    cursor: pointer;\n",
              "    display: none;\n",
              "    fill: var(--fill-color);\n",
              "    height: 32px;\n",
              "    padding: 0;\n",
              "    width: 32px;\n",
              "  }\n",
              "\n",
              "  .colab-df-quickchart:hover {\n",
              "    background-color: var(--hover-bg-color);\n",
              "    box-shadow: 0 1px 2px rgba(60, 64, 67, 0.3), 0 1px 3px 1px rgba(60, 64, 67, 0.15);\n",
              "    fill: var(--button-hover-fill-color);\n",
              "  }\n",
              "\n",
              "  .colab-df-quickchart-complete:disabled,\n",
              "  .colab-df-quickchart-complete:disabled:hover {\n",
              "    background-color: var(--disabled-bg-color);\n",
              "    fill: var(--disabled-fill-color);\n",
              "    box-shadow: none;\n",
              "  }\n",
              "\n",
              "  .colab-df-spinner {\n",
              "    border: 2px solid var(--fill-color);\n",
              "    border-color: transparent;\n",
              "    border-bottom-color: var(--fill-color);\n",
              "    animation:\n",
              "      spin 1s steps(1) infinite;\n",
              "  }\n",
              "\n",
              "  @keyframes spin {\n",
              "    0% {\n",
              "      border-color: transparent;\n",
              "      border-bottom-color: var(--fill-color);\n",
              "      border-left-color: var(--fill-color);\n",
              "    }\n",
              "    20% {\n",
              "      border-color: transparent;\n",
              "      border-left-color: var(--fill-color);\n",
              "      border-top-color: var(--fill-color);\n",
              "    }\n",
              "    30% {\n",
              "      border-color: transparent;\n",
              "      border-left-color: var(--fill-color);\n",
              "      border-top-color: var(--fill-color);\n",
              "      border-right-color: var(--fill-color);\n",
              "    }\n",
              "    40% {\n",
              "      border-color: transparent;\n",
              "      border-right-color: var(--fill-color);\n",
              "      border-top-color: var(--fill-color);\n",
              "    }\n",
              "    60% {\n",
              "      border-color: transparent;\n",
              "      border-right-color: var(--fill-color);\n",
              "    }\n",
              "    80% {\n",
              "      border-color: transparent;\n",
              "      border-right-color: var(--fill-color);\n",
              "      border-bottom-color: var(--fill-color);\n",
              "    }\n",
              "    90% {\n",
              "      border-color: transparent;\n",
              "      border-bottom-color: var(--fill-color);\n",
              "    }\n",
              "  }\n",
              "</style>\n",
              "\n",
              "  <script>\n",
              "    async function quickchart(key) {\n",
              "      const quickchartButtonEl =\n",
              "        document.querySelector('#' + key + ' button');\n",
              "      quickchartButtonEl.disabled = true;  // To prevent multiple clicks.\n",
              "      quickchartButtonEl.classList.add('colab-df-spinner');\n",
              "      try {\n",
              "        const charts = await google.colab.kernel.invokeFunction(\n",
              "            'suggestCharts', [key], {});\n",
              "      } catch (error) {\n",
              "        console.error('Error during call to suggestCharts:', error);\n",
              "      }\n",
              "      quickchartButtonEl.classList.remove('colab-df-spinner');\n",
              "      quickchartButtonEl.classList.add('colab-df-quickchart-complete');\n",
              "    }\n",
              "    (() => {\n",
              "      let quickchartButtonEl =\n",
              "        document.querySelector('#df-0bd79406-9278-4e01-8d8e-e143c5ae93c3 button');\n",
              "      quickchartButtonEl.style.display =\n",
              "        google.colab.kernel.accessAllowed ? 'block' : 'none';\n",
              "    })();\n",
              "  </script>\n",
              "</div>\n",
              "\n",
              "    </div>\n",
              "  </div>\n"
            ],
            "application/vnd.google.colaboratory.intrinsic+json": {
              "type": "dataframe",
              "variable_name": "df_train"
            }
          },
          "metadata": {},
          "execution_count": 4
        }
      ]
    },
    {
      "cell_type": "code",
      "source": [
        "df_train.shape"
      ],
      "metadata": {
        "colab": {
          "base_uri": "https://localhost:8080/"
        },
        "id": "dVjShcLQolKn",
        "outputId": "0dd24af8-6ab2-4e0f-b1c4-d90ecd4a7c6f"
      },
      "execution_count": null,
      "outputs": [
        {
          "output_type": "execute_result",
          "data": {
            "text/plain": [
              "(116532, 4)"
            ]
          },
          "metadata": {},
          "execution_count": 5
        }
      ]
    },
    {
      "cell_type": "code",
      "source": [
        "# Function to one-hot encode a sequence\n",
        "\n",
        "def one_hot_encode(sequence, max_length):\n",
        "\n",
        "    encoding = {'A': [1, 0, 0, 0],\n",
        "\n",
        "                'C': [0, 1, 0, 0],\n",
        "\n",
        "                'G': [0, 0, 1, 0],\n",
        "\n",
        "                'T': [0, 0, 0, 1],\n",
        "\n",
        "                'N': [0, 0, 0, 0]\n",
        "\n",
        "                }\n",
        "\n",
        "    # One-hot encode the sequence\n",
        "\n",
        "    encoded_sequence = [encoding.get(base, [0, 0, 0, 0]) for base in sequence[:max_length]]\n",
        "\n",
        "    # Pad to the maximum length by adding [0, 0, 0, 0] (which represents 'N' or padding)\n",
        "\n",
        "    return pad_sequences([encoded_sequence], maxlen=max_length, dtype='int32', padding='post')[0]"
      ],
      "metadata": {
        "id": "5QfVpBYQq6yZ"
      },
      "execution_count": null,
      "outputs": []
    },
    {
      "cell_type": "code",
      "source": [
        "# Set the fixed sequence length\n",
        "fixed_length = 1000\n",
        "\n",
        "# One-hot encode all sequences in the DataFrame and truncate/pad to fixed length\n",
        "X_train = np.array([one_hot_encode(seq, fixed_length) for seq in df_train['sequence']])"
      ],
      "metadata": {
        "id": "kGzOSCAUrKaK"
      },
      "execution_count": null,
      "outputs": []
    },
    {
      "cell_type": "code",
      "source": [
        "y_train  = np.array(df_train['accessibility'])"
      ],
      "metadata": {
        "id": "hsepQbl_rstw"
      },
      "execution_count": null,
      "outputs": []
    },
    {
      "cell_type": "code",
      "source": [
        "X_val = np.array([one_hot_encode(seq, fixed_length) for seq in df_val['sequence']])"
      ],
      "metadata": {
        "id": "uC80o-9Ur97M"
      },
      "execution_count": null,
      "outputs": []
    },
    {
      "cell_type": "code",
      "source": [
        "y_val = np.array(df_val['accessibility'])\n",
        "\n",
        "X_train.shape[1:]"
      ],
      "metadata": {
        "id": "wfmwn0-FsE6n",
        "colab": {
          "base_uri": "https://localhost:8080/"
        },
        "outputId": "f84de98c-77ee-44f3-a7aa-776f4950c306"
      },
      "execution_count": null,
      "outputs": [
        {
          "output_type": "execute_result",
          "data": {
            "text/plain": [
              "(1000, 4)"
            ]
          },
          "metadata": {},
          "execution_count": 10
        }
      ]
    },
    {
      "cell_type": "code",
      "source": [
        "# Build the CNN model\n",
        "# ADD MORE LAYERS TO MAKE MORE DENSE, ADD MORE UNITS\n",
        "model = Sequential()\n",
        "\n",
        "model.add(Input(shape=(1000, 4, 1)))\n",
        "model.add(Conv2D(filters=64, kernel_size=(13,4), activation='relu', padding='same'))\n",
        "model.add(Conv2D(filters=64, kernel_size=(13,1), activation='relu', padding='same'))\n",
        "\n",
        "# model.add(Conv2D(filters=64, kernel_size=(4,4), activation='relu', input_shape=(fixed_length, 4)))\n",
        "model.add(MaxPooling2D(pool_size=(5, 1)))\n",
        "\n",
        "model.add(Conv2D(filters=64, kernel_size=(7,1), activation='relu', padding='same'))\n",
        "model.add(Conv2D(filters=64, kernel_size=(7,1), activation='relu', padding='same'))\n",
        "\n",
        "#model.add(Conv2D(filters=256, kernel_size=(8,4), activation='relu', padding='same')) and\n",
        "#model.add(Conv2D(filters=16, kernel_size=(3,3), activation='relu', padding='same'))\n",
        "# model.add(Conv2D(filters=32, kernel_size=(4,4), activation='relu', input_shape=(500, 2)))\n",
        "# model.add(Conv2D(filters=32, kernel_size=(4,4), activation='relu', input_shape=(500, 2)))\n",
        "model.add(MaxPooling2D(pool_size=(5, 1)))\n",
        "\n",
        "model.add(Conv2D(filters=64, kernel_size=(5,1), activation='relu', padding='same'))\n",
        "model.add(Conv2D(filters=64, kernel_size=(5,1), activation='relu', padding='same'))\n",
        "model.add(MaxPooling2D(pool_size=(5, 1)))\n",
        "\n",
        "\n",
        "#model.add(Conv2D(filters=16, kernel_size=(3,3), activation='relu', padding='same'))\n",
        "\n",
        "#model.add(Conv2D(filters=16, kernel_size=(3,3), activation='relu', padding='same'))\n",
        "\n",
        "#model.add(MaxPooling2D(pool_size=(2, 2)))\n",
        "\n",
        "model.add(Flatten())\n",
        "\n",
        "model.add(Dropout(0.5))\n",
        "\n",
        "model.add(Dense(64, activation='relu'))\n",
        "\n",
        "model.add(Dense(32, activation='relu'))\n",
        "\n",
        "model.add(Dense(1, activation='sigmoid'))  # Assuming binary classification"
      ],
      "metadata": {
        "id": "hI0BnfPvsH1_"
      },
      "execution_count": null,
      "outputs": []
    },
    {
      "cell_type": "code",
      "source": [
        "model.summary()# Compile the model\n",
        "\n",
        "model.compile(optimizer=Adam(learning_rate=0.0001), loss='binary_crossentropy', metrics=['accuracy'])"
      ],
      "metadata": {
        "id": "RG8LgCu2sm5g",
        "colab": {
          "base_uri": "https://localhost:8080/",
          "height": 592
        },
        "outputId": "47f2ae6c-e939-46b1-f623-3735d35faa7f"
      },
      "execution_count": null,
      "outputs": [
        {
          "output_type": "display_data",
          "data": {
            "text/plain": [
              "\u001b[1mModel: \"sequential\"\u001b[0m\n"
            ],
            "text/html": [
              "<pre style=\"white-space:pre;overflow-x:auto;line-height:normal;font-family:Menlo,'DejaVu Sans Mono',consolas,'Courier New',monospace\"><span style=\"font-weight: bold\">Model: \"sequential\"</span>\n",
              "</pre>\n"
            ]
          },
          "metadata": {}
        },
        {
          "output_type": "display_data",
          "data": {
            "text/plain": [
              "┏━━━━━━━━━━━━━━━━━━━━━━━━━━━━━━━━━━━━━━┳━━━━━━━━━━━━━━━━━━━━━━━━━━━━━┳━━━━━━━━━━━━━━━━━┓\n",
              "┃\u001b[1m \u001b[0m\u001b[1mLayer (type)                        \u001b[0m\u001b[1m \u001b[0m┃\u001b[1m \u001b[0m\u001b[1mOutput Shape               \u001b[0m\u001b[1m \u001b[0m┃\u001b[1m \u001b[0m\u001b[1m        Param #\u001b[0m\u001b[1m \u001b[0m┃\n",
              "┡━━━━━━━━━━━━━━━━━━━━━━━━━━━━━━━━━━━━━━╇━━━━━━━━━━━━━━━━━━━━━━━━━━━━━╇━━━━━━━━━━━━━━━━━┩\n",
              "│ conv2d (\u001b[38;5;33mConv2D\u001b[0m)                      │ (\u001b[38;5;45mNone\u001b[0m, \u001b[38;5;34m1000\u001b[0m, \u001b[38;5;34m4\u001b[0m, \u001b[38;5;34m64\u001b[0m)         │           \u001b[38;5;34m3,392\u001b[0m │\n",
              "├──────────────────────────────────────┼─────────────────────────────┼─────────────────┤\n",
              "│ conv2d_1 (\u001b[38;5;33mConv2D\u001b[0m)                    │ (\u001b[38;5;45mNone\u001b[0m, \u001b[38;5;34m1000\u001b[0m, \u001b[38;5;34m4\u001b[0m, \u001b[38;5;34m64\u001b[0m)         │          \u001b[38;5;34m53,312\u001b[0m │\n",
              "├──────────────────────────────────────┼─────────────────────────────┼─────────────────┤\n",
              "│ max_pooling2d (\u001b[38;5;33mMaxPooling2D\u001b[0m)         │ (\u001b[38;5;45mNone\u001b[0m, \u001b[38;5;34m200\u001b[0m, \u001b[38;5;34m4\u001b[0m, \u001b[38;5;34m64\u001b[0m)          │               \u001b[38;5;34m0\u001b[0m │\n",
              "├──────────────────────────────────────┼─────────────────────────────┼─────────────────┤\n",
              "│ conv2d_2 (\u001b[38;5;33mConv2D\u001b[0m)                    │ (\u001b[38;5;45mNone\u001b[0m, \u001b[38;5;34m200\u001b[0m, \u001b[38;5;34m4\u001b[0m, \u001b[38;5;34m64\u001b[0m)          │          \u001b[38;5;34m28,736\u001b[0m │\n",
              "├──────────────────────────────────────┼─────────────────────────────┼─────────────────┤\n",
              "│ conv2d_3 (\u001b[38;5;33mConv2D\u001b[0m)                    │ (\u001b[38;5;45mNone\u001b[0m, \u001b[38;5;34m200\u001b[0m, \u001b[38;5;34m4\u001b[0m, \u001b[38;5;34m64\u001b[0m)          │          \u001b[38;5;34m28,736\u001b[0m │\n",
              "├──────────────────────────────────────┼─────────────────────────────┼─────────────────┤\n",
              "│ max_pooling2d_1 (\u001b[38;5;33mMaxPooling2D\u001b[0m)       │ (\u001b[38;5;45mNone\u001b[0m, \u001b[38;5;34m40\u001b[0m, \u001b[38;5;34m4\u001b[0m, \u001b[38;5;34m64\u001b[0m)           │               \u001b[38;5;34m0\u001b[0m │\n",
              "├──────────────────────────────────────┼─────────────────────────────┼─────────────────┤\n",
              "│ conv2d_4 (\u001b[38;5;33mConv2D\u001b[0m)                    │ (\u001b[38;5;45mNone\u001b[0m, \u001b[38;5;34m40\u001b[0m, \u001b[38;5;34m4\u001b[0m, \u001b[38;5;34m64\u001b[0m)           │          \u001b[38;5;34m20,544\u001b[0m │\n",
              "├──────────────────────────────────────┼─────────────────────────────┼─────────────────┤\n",
              "│ conv2d_5 (\u001b[38;5;33mConv2D\u001b[0m)                    │ (\u001b[38;5;45mNone\u001b[0m, \u001b[38;5;34m40\u001b[0m, \u001b[38;5;34m4\u001b[0m, \u001b[38;5;34m64\u001b[0m)           │          \u001b[38;5;34m20,544\u001b[0m │\n",
              "├──────────────────────────────────────┼─────────────────────────────┼─────────────────┤\n",
              "│ max_pooling2d_2 (\u001b[38;5;33mMaxPooling2D\u001b[0m)       │ (\u001b[38;5;45mNone\u001b[0m, \u001b[38;5;34m8\u001b[0m, \u001b[38;5;34m4\u001b[0m, \u001b[38;5;34m64\u001b[0m)            │               \u001b[38;5;34m0\u001b[0m │\n",
              "├──────────────────────────────────────┼─────────────────────────────┼─────────────────┤\n",
              "│ flatten (\u001b[38;5;33mFlatten\u001b[0m)                    │ (\u001b[38;5;45mNone\u001b[0m, \u001b[38;5;34m2048\u001b[0m)                │               \u001b[38;5;34m0\u001b[0m │\n",
              "├──────────────────────────────────────┼─────────────────────────────┼─────────────────┤\n",
              "│ dropout (\u001b[38;5;33mDropout\u001b[0m)                    │ (\u001b[38;5;45mNone\u001b[0m, \u001b[38;5;34m2048\u001b[0m)                │               \u001b[38;5;34m0\u001b[0m │\n",
              "├──────────────────────────────────────┼─────────────────────────────┼─────────────────┤\n",
              "│ dense (\u001b[38;5;33mDense\u001b[0m)                        │ (\u001b[38;5;45mNone\u001b[0m, \u001b[38;5;34m64\u001b[0m)                  │         \u001b[38;5;34m131,136\u001b[0m │\n",
              "├──────────────────────────────────────┼─────────────────────────────┼─────────────────┤\n",
              "│ dense_1 (\u001b[38;5;33mDense\u001b[0m)                      │ (\u001b[38;5;45mNone\u001b[0m, \u001b[38;5;34m32\u001b[0m)                  │           \u001b[38;5;34m2,080\u001b[0m │\n",
              "├──────────────────────────────────────┼─────────────────────────────┼─────────────────┤\n",
              "│ dense_2 (\u001b[38;5;33mDense\u001b[0m)                      │ (\u001b[38;5;45mNone\u001b[0m, \u001b[38;5;34m1\u001b[0m)                   │              \u001b[38;5;34m33\u001b[0m │\n",
              "└──────────────────────────────────────┴─────────────────────────────┴─────────────────┘\n"
            ],
            "text/html": [
              "<pre style=\"white-space:pre;overflow-x:auto;line-height:normal;font-family:Menlo,'DejaVu Sans Mono',consolas,'Courier New',monospace\">┏━━━━━━━━━━━━━━━━━━━━━━━━━━━━━━━━━━━━━━┳━━━━━━━━━━━━━━━━━━━━━━━━━━━━━┳━━━━━━━━━━━━━━━━━┓\n",
              "┃<span style=\"font-weight: bold\"> Layer (type)                         </span>┃<span style=\"font-weight: bold\"> Output Shape                </span>┃<span style=\"font-weight: bold\">         Param # </span>┃\n",
              "┡━━━━━━━━━━━━━━━━━━━━━━━━━━━━━━━━━━━━━━╇━━━━━━━━━━━━━━━━━━━━━━━━━━━━━╇━━━━━━━━━━━━━━━━━┩\n",
              "│ conv2d (<span style=\"color: #0087ff; text-decoration-color: #0087ff\">Conv2D</span>)                      │ (<span style=\"color: #00d7ff; text-decoration-color: #00d7ff\">None</span>, <span style=\"color: #00af00; text-decoration-color: #00af00\">1000</span>, <span style=\"color: #00af00; text-decoration-color: #00af00\">4</span>, <span style=\"color: #00af00; text-decoration-color: #00af00\">64</span>)         │           <span style=\"color: #00af00; text-decoration-color: #00af00\">3,392</span> │\n",
              "├──────────────────────────────────────┼─────────────────────────────┼─────────────────┤\n",
              "│ conv2d_1 (<span style=\"color: #0087ff; text-decoration-color: #0087ff\">Conv2D</span>)                    │ (<span style=\"color: #00d7ff; text-decoration-color: #00d7ff\">None</span>, <span style=\"color: #00af00; text-decoration-color: #00af00\">1000</span>, <span style=\"color: #00af00; text-decoration-color: #00af00\">4</span>, <span style=\"color: #00af00; text-decoration-color: #00af00\">64</span>)         │          <span style=\"color: #00af00; text-decoration-color: #00af00\">53,312</span> │\n",
              "├──────────────────────────────────────┼─────────────────────────────┼─────────────────┤\n",
              "│ max_pooling2d (<span style=\"color: #0087ff; text-decoration-color: #0087ff\">MaxPooling2D</span>)         │ (<span style=\"color: #00d7ff; text-decoration-color: #00d7ff\">None</span>, <span style=\"color: #00af00; text-decoration-color: #00af00\">200</span>, <span style=\"color: #00af00; text-decoration-color: #00af00\">4</span>, <span style=\"color: #00af00; text-decoration-color: #00af00\">64</span>)          │               <span style=\"color: #00af00; text-decoration-color: #00af00\">0</span> │\n",
              "├──────────────────────────────────────┼─────────────────────────────┼─────────────────┤\n",
              "│ conv2d_2 (<span style=\"color: #0087ff; text-decoration-color: #0087ff\">Conv2D</span>)                    │ (<span style=\"color: #00d7ff; text-decoration-color: #00d7ff\">None</span>, <span style=\"color: #00af00; text-decoration-color: #00af00\">200</span>, <span style=\"color: #00af00; text-decoration-color: #00af00\">4</span>, <span style=\"color: #00af00; text-decoration-color: #00af00\">64</span>)          │          <span style=\"color: #00af00; text-decoration-color: #00af00\">28,736</span> │\n",
              "├──────────────────────────────────────┼─────────────────────────────┼─────────────────┤\n",
              "│ conv2d_3 (<span style=\"color: #0087ff; text-decoration-color: #0087ff\">Conv2D</span>)                    │ (<span style=\"color: #00d7ff; text-decoration-color: #00d7ff\">None</span>, <span style=\"color: #00af00; text-decoration-color: #00af00\">200</span>, <span style=\"color: #00af00; text-decoration-color: #00af00\">4</span>, <span style=\"color: #00af00; text-decoration-color: #00af00\">64</span>)          │          <span style=\"color: #00af00; text-decoration-color: #00af00\">28,736</span> │\n",
              "├──────────────────────────────────────┼─────────────────────────────┼─────────────────┤\n",
              "│ max_pooling2d_1 (<span style=\"color: #0087ff; text-decoration-color: #0087ff\">MaxPooling2D</span>)       │ (<span style=\"color: #00d7ff; text-decoration-color: #00d7ff\">None</span>, <span style=\"color: #00af00; text-decoration-color: #00af00\">40</span>, <span style=\"color: #00af00; text-decoration-color: #00af00\">4</span>, <span style=\"color: #00af00; text-decoration-color: #00af00\">64</span>)           │               <span style=\"color: #00af00; text-decoration-color: #00af00\">0</span> │\n",
              "├──────────────────────────────────────┼─────────────────────────────┼─────────────────┤\n",
              "│ conv2d_4 (<span style=\"color: #0087ff; text-decoration-color: #0087ff\">Conv2D</span>)                    │ (<span style=\"color: #00d7ff; text-decoration-color: #00d7ff\">None</span>, <span style=\"color: #00af00; text-decoration-color: #00af00\">40</span>, <span style=\"color: #00af00; text-decoration-color: #00af00\">4</span>, <span style=\"color: #00af00; text-decoration-color: #00af00\">64</span>)           │          <span style=\"color: #00af00; text-decoration-color: #00af00\">20,544</span> │\n",
              "├──────────────────────────────────────┼─────────────────────────────┼─────────────────┤\n",
              "│ conv2d_5 (<span style=\"color: #0087ff; text-decoration-color: #0087ff\">Conv2D</span>)                    │ (<span style=\"color: #00d7ff; text-decoration-color: #00d7ff\">None</span>, <span style=\"color: #00af00; text-decoration-color: #00af00\">40</span>, <span style=\"color: #00af00; text-decoration-color: #00af00\">4</span>, <span style=\"color: #00af00; text-decoration-color: #00af00\">64</span>)           │          <span style=\"color: #00af00; text-decoration-color: #00af00\">20,544</span> │\n",
              "├──────────────────────────────────────┼─────────────────────────────┼─────────────────┤\n",
              "│ max_pooling2d_2 (<span style=\"color: #0087ff; text-decoration-color: #0087ff\">MaxPooling2D</span>)       │ (<span style=\"color: #00d7ff; text-decoration-color: #00d7ff\">None</span>, <span style=\"color: #00af00; text-decoration-color: #00af00\">8</span>, <span style=\"color: #00af00; text-decoration-color: #00af00\">4</span>, <span style=\"color: #00af00; text-decoration-color: #00af00\">64</span>)            │               <span style=\"color: #00af00; text-decoration-color: #00af00\">0</span> │\n",
              "├──────────────────────────────────────┼─────────────────────────────┼─────────────────┤\n",
              "│ flatten (<span style=\"color: #0087ff; text-decoration-color: #0087ff\">Flatten</span>)                    │ (<span style=\"color: #00d7ff; text-decoration-color: #00d7ff\">None</span>, <span style=\"color: #00af00; text-decoration-color: #00af00\">2048</span>)                │               <span style=\"color: #00af00; text-decoration-color: #00af00\">0</span> │\n",
              "├──────────────────────────────────────┼─────────────────────────────┼─────────────────┤\n",
              "│ dropout (<span style=\"color: #0087ff; text-decoration-color: #0087ff\">Dropout</span>)                    │ (<span style=\"color: #00d7ff; text-decoration-color: #00d7ff\">None</span>, <span style=\"color: #00af00; text-decoration-color: #00af00\">2048</span>)                │               <span style=\"color: #00af00; text-decoration-color: #00af00\">0</span> │\n",
              "├──────────────────────────────────────┼─────────────────────────────┼─────────────────┤\n",
              "│ dense (<span style=\"color: #0087ff; text-decoration-color: #0087ff\">Dense</span>)                        │ (<span style=\"color: #00d7ff; text-decoration-color: #00d7ff\">None</span>, <span style=\"color: #00af00; text-decoration-color: #00af00\">64</span>)                  │         <span style=\"color: #00af00; text-decoration-color: #00af00\">131,136</span> │\n",
              "├──────────────────────────────────────┼─────────────────────────────┼─────────────────┤\n",
              "│ dense_1 (<span style=\"color: #0087ff; text-decoration-color: #0087ff\">Dense</span>)                      │ (<span style=\"color: #00d7ff; text-decoration-color: #00d7ff\">None</span>, <span style=\"color: #00af00; text-decoration-color: #00af00\">32</span>)                  │           <span style=\"color: #00af00; text-decoration-color: #00af00\">2,080</span> │\n",
              "├──────────────────────────────────────┼─────────────────────────────┼─────────────────┤\n",
              "│ dense_2 (<span style=\"color: #0087ff; text-decoration-color: #0087ff\">Dense</span>)                      │ (<span style=\"color: #00d7ff; text-decoration-color: #00d7ff\">None</span>, <span style=\"color: #00af00; text-decoration-color: #00af00\">1</span>)                   │              <span style=\"color: #00af00; text-decoration-color: #00af00\">33</span> │\n",
              "└──────────────────────────────────────┴─────────────────────────────┴─────────────────┘\n",
              "</pre>\n"
            ]
          },
          "metadata": {}
        },
        {
          "output_type": "display_data",
          "data": {
            "text/plain": [
              "\u001b[1m Total params: \u001b[0m\u001b[38;5;34m288,513\u001b[0m (1.10 MB)\n"
            ],
            "text/html": [
              "<pre style=\"white-space:pre;overflow-x:auto;line-height:normal;font-family:Menlo,'DejaVu Sans Mono',consolas,'Courier New',monospace\"><span style=\"font-weight: bold\"> Total params: </span><span style=\"color: #00af00; text-decoration-color: #00af00\">288,513</span> (1.10 MB)\n",
              "</pre>\n"
            ]
          },
          "metadata": {}
        },
        {
          "output_type": "display_data",
          "data": {
            "text/plain": [
              "\u001b[1m Trainable params: \u001b[0m\u001b[38;5;34m288,513\u001b[0m (1.10 MB)\n"
            ],
            "text/html": [
              "<pre style=\"white-space:pre;overflow-x:auto;line-height:normal;font-family:Menlo,'DejaVu Sans Mono',consolas,'Courier New',monospace\"><span style=\"font-weight: bold\"> Trainable params: </span><span style=\"color: #00af00; text-decoration-color: #00af00\">288,513</span> (1.10 MB)\n",
              "</pre>\n"
            ]
          },
          "metadata": {}
        },
        {
          "output_type": "display_data",
          "data": {
            "text/plain": [
              "\u001b[1m Non-trainable params: \u001b[0m\u001b[38;5;34m0\u001b[0m (0.00 B)\n"
            ],
            "text/html": [
              "<pre style=\"white-space:pre;overflow-x:auto;line-height:normal;font-family:Menlo,'DejaVu Sans Mono',consolas,'Courier New',monospace\"><span style=\"font-weight: bold\"> Non-trainable params: </span><span style=\"color: #00af00; text-decoration-color: #00af00\">0</span> (0.00 B)\n",
              "</pre>\n"
            ]
          },
          "metadata": {}
        }
      ]
    },
    {
      "cell_type": "code",
      "source": [
        "# Train the model with validation\n",
        "model_trained = model.fit(X_train, y_train, epochs=8, batch_size=2, validation_data=(X_val, y_val), verbose=1)"
      ],
      "metadata": {
        "colab": {
          "base_uri": "https://localhost:8080/"
        },
        "id": "qzXNOAtauNjd",
        "outputId": "f377d33d-76a2-41ff-e35f-aef260d11de1"
      },
      "execution_count": null,
      "outputs": [
        {
          "output_type": "stream",
          "name": "stdout",
          "text": [
            "Epoch 1/8\n",
            "\u001b[1m58266/58266\u001b[0m \u001b[32m━━━━━━━━━━━━━━━━━━━━\u001b[0m\u001b[37m\u001b[0m \u001b[1m244s\u001b[0m 4ms/step - accuracy: 0.7462 - loss: 0.4875 - val_accuracy: 0.8787 - val_loss: 0.2848\n",
            "Epoch 2/8\n",
            "\u001b[1m58266/58266\u001b[0m \u001b[32m━━━━━━━━━━━━━━━━━━━━\u001b[0m\u001b[37m\u001b[0m \u001b[1m238s\u001b[0m 4ms/step - accuracy: 0.8882 - loss: 0.2717 - val_accuracy: 0.9064 - val_loss: 0.2325\n",
            "Epoch 3/8\n",
            "\u001b[1m58266/58266\u001b[0m \u001b[32m━━━━━━━━━━━━━━━━━━━━\u001b[0m\u001b[37m\u001b[0m \u001b[1m236s\u001b[0m 4ms/step - accuracy: 0.9087 - loss: 0.2263 - val_accuracy: 0.9167 - val_loss: 0.2062\n",
            "Epoch 4/8\n",
            "\u001b[1m58266/58266\u001b[0m \u001b[32m━━━━━━━━━━━━━━━━━━━━\u001b[0m\u001b[37m\u001b[0m \u001b[1m237s\u001b[0m 4ms/step - accuracy: 0.9237 - loss: 0.1960 - val_accuracy: 0.9200 - val_loss: 0.2123\n",
            "Epoch 5/8\n",
            "\u001b[1m58266/58266\u001b[0m \u001b[32m━━━━━━━━━━━━━━━━━━━━\u001b[0m\u001b[37m\u001b[0m \u001b[1m237s\u001b[0m 4ms/step - accuracy: 0.9334 - loss: 0.1739 - val_accuracy: 0.9206 - val_loss: 0.2048\n",
            "Epoch 6/8\n",
            "\u001b[1m58266/58266\u001b[0m \u001b[32m━━━━━━━━━━━━━━━━━━━━\u001b[0m\u001b[37m\u001b[0m \u001b[1m237s\u001b[0m 4ms/step - accuracy: 0.9416 - loss: 0.1559 - val_accuracy: 0.9176 - val_loss: 0.2119\n",
            "Epoch 7/8\n",
            "\u001b[1m58266/58266\u001b[0m \u001b[32m━━━━━━━━━━━━━━━━━━━━\u001b[0m\u001b[37m\u001b[0m \u001b[1m237s\u001b[0m 4ms/step - accuracy: 0.9478 - loss: 0.1435 - val_accuracy: 0.9141 - val_loss: 0.2164\n",
            "Epoch 8/8\n",
            "\u001b[1m58266/58266\u001b[0m \u001b[32m━━━━━━━━━━━━━━━━━━━━\u001b[0m\u001b[37m\u001b[0m \u001b[1m237s\u001b[0m 4ms/step - accuracy: 0.9548 - loss: 0.1256 - val_accuracy: 0.9222 - val_loss: 0.2011\n"
          ]
        }
      ]
    },
    {
      "cell_type": "code",
      "source": [
        "import matplotlib.pyplot as plt\n",
        "\n",
        "\n",
        "\n",
        "def plot_history(model):\n",
        "\n",
        "    # Plot training & validation accuracy values\n",
        "\n",
        "    plt.figure(figsize=(14, 5))\n",
        "\n",
        "\n",
        "\n",
        "    # Accuracy subplot\n",
        "\n",
        "    plt.subplot(1, 2, 1)\n",
        "\n",
        "    plt.plot(model.history['accuracy'], label='Train Accuracy')\n",
        "\n",
        "    plt.plot(model.history['val_accuracy'], label='Validation Accuracy')\n",
        "\n",
        "    plt.title('Model Accuracy')\n",
        "\n",
        "    plt.xlabel('Epoch')\n",
        "\n",
        "    plt.ylabel('Accuracy')\n",
        "\n",
        "    plt.legend(loc='upper left')\n",
        "\n",
        "\n",
        "\n",
        "    # Loss subplot\n",
        "\n",
        "    plt.subplot(1, 2, 2)\n",
        "\n",
        "    plt.plot(model.history['loss'], label='Train Loss')\n",
        "\n",
        "    plt.plot(model.history['val_loss'], label='Validation Loss')\n",
        "\n",
        "    plt.title('Model Loss')\n",
        "\n",
        "    plt.xlabel('Epoch')\n",
        "\n",
        "    plt.ylabel('Loss')\n",
        "\n",
        "    plt.legend(loc='upper left')\n",
        "\n",
        "\n",
        "\n",
        "    plt.tight_layout()\n",
        "\n",
        "    plt.show()"
      ],
      "metadata": {
        "id": "aRTy_AY4u-O6"
      },
      "execution_count": null,
      "outputs": []
    },
    {
      "cell_type": "code",
      "source": [
        "plot_history(model_trained)\n"
      ],
      "metadata": {
        "colab": {
          "base_uri": "https://localhost:8080/",
          "height": 507
        },
        "id": "bi7axFHCwVk1",
        "outputId": "d0f31d6e-873d-47e3-fd00-47107aee0c9f"
      },
      "execution_count": null,
      "outputs": [
        {
          "output_type": "display_data",
          "data": {
            "text/plain": [
              "<Figure size 1400x500 with 2 Axes>"
            ],
            "image/png": "[encoded data removed]"
          },
          "metadata": {}
        }
      ]
    },
    {
      "cell_type": "code",
      "source": [
        "# Evaluate the model on the test dataset\n",
        "\n",
        "val_score = model.evaluate(X_val, y_val, verbose=1)\n",
        "\n",
        "print(f'Accuracy on validation set: {val_score[1] * 100}%')"
      ],
      "metadata": {
        "colab": {
          "base_uri": "https://localhost:8080/"
        },
        "id": "ZXf-h6YqwYxN",
        "outputId": "9fd61f06-c20d-4fa3-f9af-c2e791a0c55a"
      },
      "execution_count": null,
      "outputs": [
        {
          "output_type": "stream",
          "name": "stdout",
          "text": [
            "\u001b[1m456/456\u001b[0m \u001b[32m━━━━━━━━━━━━━━━━━━━━\u001b[0m\u001b[37m\u001b[0m \u001b[1m3s\u001b[0m 6ms/step - accuracy: 0.9207 - loss: 0.2035\n",
            "Accuracy on validation set: 92.22214818000793%\n"
          ]
        }
      ]
    },
    {
      "cell_type": "code",
      "source": [
        "df_test = pd.read_csv('/content/drive/MyDrive/1:1_Atharv_Gupta/Datasets/joined_test_random_1k.csv')\n",
        "X_test = np.array([one_hot_encode(seq, fixed_length) for seq in df_test['sequence']])\n",
        "y_test  = np.array(df_test['accessibility'])"
      ],
      "metadata": {
        "id": "zeq7tggEGsLY"
      },
      "execution_count": null,
      "outputs": []
    },
    {
      "cell_type": "code",
      "source": [
        "import matplotlib.pyplot as plt\n",
        "\n",
        "accessibility_counts = df_test['accessibility'].value_counts()\n",
        "\n",
        "plt.figure(figsize=(6, 6))\n",
        "plt.pie(accessibility_counts, labels=accessibility_counts.index, autopct='%1.1f%%')\n",
        "_ = plt.title('Proportion of Accessible and Inaccessible Regions')"
      ],
      "metadata": {
        "colab": {
          "base_uri": "https://localhost:8080/",
          "height": 520
        },
        "id": "xw58-7PHGxc2",
        "outputId": "6a26d3e2-9af0-4545-9bb0-0b2d47b44c48"
      },
      "execution_count": null,
      "outputs": [
        {
          "output_type": "display_data",
          "data": {
            "text/plain": [
              "<Figure size 600x600 with 1 Axes>"
            ],
            "image/png": "[encoded data removed]"
          },
          "metadata": {}
        }
      ]
    },
    {
      "cell_type": "code",
      "source": [
        "test_accuracy = model.evaluate(X_test, y_test, verbose=1)\n",
        "\n",
        "y_pred_probs = model.predict(X_test)\n",
        "\n",
        "#y_pred = np.argmax(y_pred_probs, axis=-1)\n",
        "y_pred = np.where(y_pred_probs > 0.5, 1, 0)"
      ],
      "metadata": {
        "colab": {
          "base_uri": "https://localhost:8080/"
        },
        "id": "q5hqw6EWG2Tf",
        "outputId": "65a644e3-259a-4ef3-ee36-5d483f868c0d"
      },
      "execution_count": null,
      "outputs": [
        {
          "output_type": "stream",
          "name": "stdout",
          "text": [
            "\u001b[1m456/456\u001b[0m \u001b[32m━━━━━━━━━━━━━━━━━━━━\u001b[0m\u001b[37m\u001b[0m \u001b[1m2s\u001b[0m 5ms/step - accuracy: 0.9233 - loss: 0.2016\n",
            "\u001b[1m456/456\u001b[0m \u001b[32m━━━━━━━━━━━━━━━━━━━━\u001b[0m\u001b[37m\u001b[0m \u001b[1m2s\u001b[0m 5ms/step\n"
          ]
        }
      ]
    },
    {
      "cell_type": "code",
      "source": [
        "# After finding optimized paramaters(learning rates and epochs) run this cell to save best model\n",
        "\n",
        "model.save(\"/content/drive/MyDrive/1:1_Atharv_Gupta/Models/best_model_CNN.h5\")\n",
        "\n",
        "\n",
        "from sklearn.metrics import classification_report, confusion_matrix\n",
        "import seaborn as sns\n",
        "\n",
        "# Generate classification report\n",
        "print(\"Classification Report:\")\n",
        "class_names = ['Inaccessible','Accessible']\n",
        "print(classification_report(y_test, y_pred, target_names=class_names))\n",
        "model_evaluation = classification_report(y_test, y_pred, target_names=class_names, output_dict=True)\n",
        "plt.figure(figsize = (10,10))\n",
        "sns.heatmap(confusion_matrix(y_test, y_pred),  annot = True, fmt=\"g\", cmap = \"Blues\")\n",
        "plt.title(\"Consfuion Matrix\")\n",
        "plt.show()"
      ],
      "metadata": {
        "colab": {
          "base_uri": "https://localhost:8080/",
          "height": 1000
        },
        "id": "ET8akozpxARu",
        "outputId": "09dee702-1bb1-4ec3-a35a-8a15fc9d3e5b"
      },
      "execution_count": null,
      "outputs": [
        {
          "output_type": "stream",
          "name": "stderr",
          "text": [
            "WARNING:absl:You are saving your model as an HDF5 file via `model.save()` or `keras.saving.save_model(model)`. This file format is considered legacy. We recommend using instead the native Keras format, e.g. `model.save('my_model.keras')` or `keras.saving.save_model(model, 'my_model.keras')`. \n"
          ]
        },
        {
          "output_type": "stream",
          "name": "stdout",
          "text": [
            "Classification Report:\n",
            "              precision    recall  f1-score   support\n",
            "\n",
            "Inaccessible       0.92      0.92      0.92      7306\n",
            "  Accessible       0.92      0.92      0.92      7261\n",
            "\n",
            "    accuracy                           0.92     14567\n",
            "   macro avg       0.92      0.92      0.92     14567\n",
            "weighted avg       0.92      0.92      0.92     14567\n",
            "\n"
          ]
        },
        {
          "output_type": "display_data",
          "data": {
            "text/plain": [
              "<Figure size 1000x1000 with 2 Axes>"
            ],
            "image/png": "[encoded data removed]"
          },
          "metadata": {}
        }
      ]
    },
    {
      "cell_type": "code",
      "source": [
        "df_snps = pd.read_csv('/content/drive/MyDrive/1:1_Atharv_Gupta/Datasets/baseline_snp_sequences.csv')\n",
        "X_ref_snp = np.array([one_hot_encode(seq, fixed_length) for seq in df_snps['ref_sequence']])\n",
        "X_alt_snp = np.array([one_hot_encode(seq, fixed_length) for seq in df_snps['alt_sequence']])\n",
        "ref_pred_probs = model.predict(X_ref_snp)\n",
        "alt_pred_probs = model.predict(X_alt_snp)\n",
        "\n",
        "for i in range(len(ref_pred_probs)):\n",
        "    c = ref_pred_probs[i] - alt_pred_probs[i]\n",
        "    df_snps.loc[i, 'delta'] = c\n",
        "    df_snps.loc[i, 'ref_pred'] = ref_pred_probs[i]\n",
        "    df_snps.loc[i, 'alt_pred'] = alt_pred_probs[i]"
      ],
      "metadata": {
        "colab": {
          "base_uri": "https://localhost:8080/"
        },
        "id": "vvdnFnnw-lPe",
        "outputId": "7883c5b7-76e9-483c-ab9f-31e0f358783a"
      },
      "execution_count": null,
      "outputs": [
        {
          "output_type": "stream",
          "name": "stdout",
          "text": [
            "\u001b[1m1/1\u001b[0m \u001b[32m━━━━━━━━━━━━━━━━━━━━\u001b[0m\u001b[37m\u001b[0m \u001b[1m1s\u001b[0m 709ms/step\n",
            "\u001b[1m1/1\u001b[0m \u001b[32m━━━━━━━━━━━━━━━━━━━━\u001b[0m\u001b[37m\u001b[0m \u001b[1m0s\u001b[0m 31ms/step\n"
          ]
        }
      ]
    },
    {
      "cell_type": "code",
      "source": [
        "df_snps.head()\n",
        "df_snps.to_csv('/content/drive/MyDrive/1:1_Atharv_Gupta/Datasets/baseline_snp_sequences.csv', index=False)"
      ],
      "metadata": {
        "id": "mJb52QXtDH_q"
      },
      "execution_count": null,
      "outputs": []
    },
    {
      "cell_type": "code",
      "source": [
        "df_snps = pd.read_csv('/content/drive/MyDrive/1:1_Atharv_Gupta/Datasets/validation_snp_sequences.csv')\n",
        "X_ref_snp = np.array([one_hot_encode(seq, fixed_length) for seq in df_snps['ref_sequence']])\n",
        "X_alt_snp = np.array([one_hot_encode(seq, fixed_length) for seq in df_snps['alt_sequence']])\n",
        "ref_pred_probs = model.predict(X_ref_snp)\n",
        "alt_pred_probs = model.predict(X_ref_snp)\n",
        "\n",
        "for i in range(len(ref_pred_probs)):\n",
        "    c = ref_pred_probs[i] - alt_pred_probs[i]\n",
        "    df_snps.loc[i, 'delta'] = c\n",
        "    df_snps.loc[i, 'ref_pred'] = ref_pred_probs[i]\n",
        "    df_snps.loc[i, 'alt_pred'] = alt_pred_probs[i]"
      ],
      "metadata": {
        "colab": {
          "base_uri": "https://localhost:8080/"
        },
        "id": "b_HAj9VzDDkr",
        "outputId": "df8f47ce-41bb-4480-d168-ae2fa5659577"
      },
      "execution_count": null,
      "outputs": [
        {
          "output_type": "stream",
          "name": "stdout",
          "text": [
            "\u001b[1m5/5\u001b[0m \u001b[32m━━━━━━━━━━━━━━━━━━━━\u001b[0m\u001b[37m\u001b[0m \u001b[1m0s\u001b[0m 5ms/step \n",
            "\u001b[1m5/5\u001b[0m \u001b[32m━━━━━━━━━━━━━━━━━━━━\u001b[0m\u001b[37m\u001b[0m \u001b[1m0s\u001b[0m 5ms/step \n"
          ]
        }
      ]
    },
    {
      "cell_type": "code",
      "source": [
        "df_snps.head()"
      ],
      "metadata": {
        "colab": {
          "base_uri": "https://localhost:8080/",
          "height": 254
        },
        "id": "LkieikoICRxg",
        "outputId": "e87e00f8-99e2-44a6-ff2a-1388697ff7b7"
      },
      "execution_count": null,
      "outputs": [
        {
          "output_type": "execute_result",
          "data": {
            "text/plain": [
              "  Chromosome         SNP   Position cytoBand REF ALT Risk Allele     RAF  \\\n",
              "0          1  rs56391074   88210715   1p22.3   A  AT          AT  0.3790   \n",
              "1          1  rs34579442  153899900   1q21.3   C  CT          CT  0.3360   \n",
              "2          1  rs17599629  150658287   1q21.3   A   G           G  0.2180   \n",
              "3          1   rs1218582  154834183   1q21.3   G   A           G  0.4467   \n",
              "4          1   rs4245739  204518842   1q32.1   C   A           A  0.7380   \n",
              "\n",
              "  Func.refGene        Gene.refGene                     Gene.ensGene  \\\n",
              "0   intergenic  LINC01364;PKN2-AS1  ENSG00000199318;ENSG00000224235   \n",
              "1   intergenic     GATAD2B;DENND4B  ENSG00000143614;ENSG00000198837   \n",
              "2     intronic             GOLPH3L                  ENSG00000143457   \n",
              "3     intronic               KCNN3                  ENSG00000143603   \n",
              "4         UTR3                MDM4                  ENSG00000198625   \n",
              "\n",
              "  Source_2018NG  NewPosition sequence  \\\n",
              "0         Novel     87745032        A   \n",
              "1         Novel    153927424        C   \n",
              "2         Known    150685811        A   \n",
              "3         Known    154861707        G   \n",
              "4         Known    204549714        C   \n",
              "\n",
              "                                        ref_sequence  \\\n",
              "0  ATCACAAAAAGACATGGAAGCCAGGGGTTTTTGGGTAATCACACAC...   \n",
              "1  AGTAGCTGGGATTATAGGCCCCCGCCACCACACCCATCTAATTTTT...   \n",
              "2  AACATTTGAACAAGAAAGATATGGATAAGACCTGAAAAATAACTCA...   \n",
              "3  GCCTCTCAAAGTGCTGCGATTACAGGTATGAGCCACCGCGCCTGGC...   \n",
              "4  AAGTTAACCCATTCTCTCTCCACGTCTGATATCACTGCCATACCTG...   \n",
              "\n",
              "                                        alt_sequence  delta  ref_pred  \\\n",
              "0  ATCACAAAAAGACATGGAAGCCAGGGGTTTTTGGGTAATCACACAC...    0.0  0.000037   \n",
              "1  AGTAGCTGGGATTATAGGCCCCCGCCACCACACCCATCTAATTTTT...    0.0  0.000743   \n",
              "2  AACATTTGAACAAGAAAGATATGGATAAGACCTGAAAAATAACTCA...    0.0  0.000999   \n",
              "3  GCCTCTCAAAGTGCTGCGATTACAGGTATGAGCCACCGCGCCTGGC...    0.0  0.995733   \n",
              "4  AAGTTAACCCATTCTCTCTCCACGTCTGATATCACTGCCATACCTG...    0.0  0.003138   \n",
              "\n",
              "   alt_pred  \n",
              "0  0.000037  \n",
              "1  0.000743  \n",
              "2  0.000999  \n",
              "3  0.995733  \n",
              "4  0.003138  "
            ],
            "text/html": [
              "\n",
              "  <div id=\"df-841b702c-83aa-4fb4-9830-b49502c25ca3\" class=\"colab-df-container\">\n",
              "    <div>\n",
              "<style scoped>\n",
              "    .dataframe tbody tr th:only-of-type {\n",
              "        vertical-align: middle;\n",
              "    }\n",
              "\n",
              "    .dataframe tbody tr th {\n",
              "        vertical-align: top;\n",
              "    }\n",
              "\n",
              "    .dataframe thead th {\n",
              "        text-align: right;\n",
              "    }\n",
              "</style>\n",
              "<table border=\"1\" class=\"dataframe\">\n",
              "  <thead>\n",
              "    <tr style=\"text-align: right;\">\n",
              "      <th></th>\n",
              "      <th>Chromosome</th>\n",
              "      <th>SNP</th>\n",
              "      <th>Position</th>\n",
              "      <th>cytoBand</th>\n",
              "      <th>REF</th>\n",
              "      <th>ALT</th>\n",
              "      <th>Risk Allele</th>\n",
              "      <th>RAF</th>\n",
              "      <th>Func.refGene</th>\n",
              "      <th>Gene.refGene</th>\n",
              "      <th>Gene.ensGene</th>\n",
              "      <th>Source_2018NG</th>\n",
              "      <th>NewPosition</th>\n",
              "      <th>sequence</th>\n",
              "      <th>ref_sequence</th>\n",
              "      <th>alt_sequence</th>\n",
              "      <th>delta</th>\n",
              "      <th>ref_pred</th>\n",
              "      <th>alt_pred</th>\n",
              "    </tr>\n",
              "  </thead>\n",
              "  <tbody>\n",
              "    <tr>\n",
              "      <th>0</th>\n",
              "      <td>1</td>\n",
              "      <td>rs56391074</td>\n",
              "      <td>88210715</td>\n",
              "      <td>1p22.3</td>\n",
              "      <td>A</td>\n",
              "      <td>AT</td>\n",
              "      <td>AT</td>\n",
              "      <td>0.3790</td>\n",
              "      <td>intergenic</td>\n",
              "      <td>LINC01364;PKN2-AS1</td>\n",
              "      <td>ENSG00000199318;ENSG00000224235</td>\n",
              "      <td>Novel</td>\n",
              "      <td>87745032</td>\n",
              "      <td>A</td>\n",
              "      <td>ATCACAAAAAGACATGGAAGCCAGGGGTTTTTGGGTAATCACACAC...</td>\n",
              "      <td>ATCACAAAAAGACATGGAAGCCAGGGGTTTTTGGGTAATCACACAC...</td>\n",
              "      <td>0.0</td>\n",
              "      <td>0.000037</td>\n",
              "      <td>0.000037</td>\n",
              "    </tr>\n",
              "    <tr>\n",
              "      <th>1</th>\n",
              "      <td>1</td>\n",
              "      <td>rs34579442</td>\n",
              "      <td>153899900</td>\n",
              "      <td>1q21.3</td>\n",
              "      <td>C</td>\n",
              "      <td>CT</td>\n",
              "      <td>CT</td>\n",
              "      <td>0.3360</td>\n",
              "      <td>intergenic</td>\n",
              "      <td>GATAD2B;DENND4B</td>\n",
              "      <td>ENSG00000143614;ENSG00000198837</td>\n",
              "      <td>Novel</td>\n",
              "      <td>153927424</td>\n",
              "      <td>C</td>\n",
              "      <td>AGTAGCTGGGATTATAGGCCCCCGCCACCACACCCATCTAATTTTT...</td>\n",
              "      <td>AGTAGCTGGGATTATAGGCCCCCGCCACCACACCCATCTAATTTTT...</td>\n",
              "      <td>0.0</td>\n",
              "      <td>0.000743</td>\n",
              "      <td>0.000743</td>\n",
              "    </tr>\n",
              "    <tr>\n",
              "      <th>2</th>\n",
              "      <td>1</td>\n",
              "      <td>rs17599629</td>\n",
              "      <td>150658287</td>\n",
              "      <td>1q21.3</td>\n",
              "      <td>A</td>\n",
              "      <td>G</td>\n",
              "      <td>G</td>\n",
              "      <td>0.2180</td>\n",
              "      <td>intronic</td>\n",
              "      <td>GOLPH3L</td>\n",
              "      <td>ENSG00000143457</td>\n",
              "      <td>Known</td>\n",
              "      <td>150685811</td>\n",
              "      <td>A</td>\n",
              "      <td>AACATTTGAACAAGAAAGATATGGATAAGACCTGAAAAATAACTCA...</td>\n",
              "      <td>AACATTTGAACAAGAAAGATATGGATAAGACCTGAAAAATAACTCA...</td>\n",
              "      <td>0.0</td>\n",
              "      <td>0.000999</td>\n",
              "      <td>0.000999</td>\n",
              "    </tr>\n",
              "    <tr>\n",
              "      <th>3</th>\n",
              "      <td>1</td>\n",
              "      <td>rs1218582</td>\n",
              "      <td>154834183</td>\n",
              "      <td>1q21.3</td>\n",
              "      <td>G</td>\n",
              "      <td>A</td>\n",
              "      <td>G</td>\n",
              "      <td>0.4467</td>\n",
              "      <td>intronic</td>\n",
              "      <td>KCNN3</td>\n",
              "      <td>ENSG00000143603</td>\n",
              "      <td>Known</td>\n",
              "      <td>154861707</td>\n",
              "      <td>G</td>\n",
              "      <td>GCCTCTCAAAGTGCTGCGATTACAGGTATGAGCCACCGCGCCTGGC...</td>\n",
              "      <td>GCCTCTCAAAGTGCTGCGATTACAGGTATGAGCCACCGCGCCTGGC...</td>\n",
              "      <td>0.0</td>\n",
              "      <td>0.995733</td>\n",
              "      <td>0.995733</td>\n",
              "    </tr>\n",
              "    <tr>\n",
              "      <th>4</th>\n",
              "      <td>1</td>\n",
              "      <td>rs4245739</td>\n",
              "      <td>204518842</td>\n",
              "      <td>1q32.1</td>\n",
              "      <td>C</td>\n",
              "      <td>A</td>\n",
              "      <td>A</td>\n",
              "      <td>0.7380</td>\n",
              "      <td>UTR3</td>\n",
              "      <td>MDM4</td>\n",
              "      <td>ENSG00000198625</td>\n",
              "      <td>Known</td>\n",
              "      <td>204549714</td>\n",
              "      <td>C</td>\n",
              "      <td>AAGTTAACCCATTCTCTCTCCACGTCTGATATCACTGCCATACCTG...</td>\n",
              "      <td>AAGTTAACCCATTCTCTCTCCACGTCTGATATCACTGCCATACCTG...</td>\n",
              "      <td>0.0</td>\n",
              "      <td>0.003138</td>\n",
              "      <td>0.003138</td>\n",
              "    </tr>\n",
              "  </tbody>\n",
              "</table>\n",
              "</div>\n",
              "    <div class=\"colab-df-buttons\">\n",
              "\n",
              "  <div class=\"colab-df-container\">\n",
              "    <button class=\"colab-df-convert\" onclick=\"convertToInteractive('df-841b702c-83aa-4fb4-9830-b49502c25ca3')\"\n",
              "            title=\"Convert this dataframe to an interactive table.\"\n",
              "            style=\"display:none;\">\n",
              "\n",
              "  <svg xmlns=\"http://www.w3.org/2000/svg\" height=\"24px\" viewBox=\"0 -960 960 960\">\n",
              "    <path d=\"M120-120v-720h720v720H120Zm60-500h600v-160H180v160Zm220 220h160v-160H400v160Zm0 220h160v-160H400v160ZM180-400h160v-160H180v160Zm440 0h160v-160H620v160ZM180-180h160v-160H180v160Zm440 0h160v-160H620v160Z\"/>\n",
              "  </svg>\n",
              "    </button>\n",
              "\n",
              "  <style>\n",
              "    .colab-df-container {\n",
              "      display:flex;\n",
              "      gap: 12px;\n",
              "    }\n",
              "\n",
              "    .colab-df-convert {\n",
              "      background-color: #E8F0FE;\n",
              "      border: none;\n",
              "      border-radius: 50%;\n",
              "      cursor: pointer;\n",
              "      display: none;\n",
              "      fill: #1967D2;\n",
              "      height: 32px;\n",
              "      padding: 0 0 0 0;\n",
              "      width: 32px;\n",
              "    }\n",
              "\n",
              "    .colab-df-convert:hover {\n",
              "      background-color: #E2EBFA;\n",
              "      box-shadow: 0px 1px 2px rgba(60, 64, 67, 0.3), 0px 1px 3px 1px rgba(60, 64, 67, 0.15);\n",
              "      fill: #174EA6;\n",
              "    }\n",
              "\n",
              "    .colab-df-buttons div {\n",
              "      margin-bottom: 4px;\n",
              "    }\n",
              "\n",
              "    [theme=dark] .colab-df-convert {\n",
              "      background-color: #3B4455;\n",
              "      fill: #D2E3FC;\n",
              "    }\n",
              "\n",
              "    [theme=dark] .colab-df-convert:hover {\n",
              "      background-color: #434B5C;\n",
              "      box-shadow: 0px 1px 3px 1px rgba(0, 0, 0, 0.15);\n",
              "      filter: drop-shadow(0px 1px 2px rgba(0, 0, 0, 0.3));\n",
              "      fill: #FFFFFF;\n",
              "    }\n",
              "  </style>\n",
              "\n",
              "    <script>\n",
              "      const buttonEl =\n",
              "        document.querySelector('#df-841b702c-83aa-4fb4-9830-b49502c25ca3 button.colab-df-convert');\n",
              "      buttonEl.style.display =\n",
              "        google.colab.kernel.accessAllowed ? 'block' : 'none';\n",
              "\n",
              "      async function convertToInteractive(key) {\n",
              "        const element = document.querySelector('#df-841b702c-83aa-4fb4-9830-b49502c25ca3');\n",
              "        const dataTable =\n",
              "          await google.colab.kernel.invokeFunction('convertToInteractive',\n",
              "                                                    [key], {});\n",
              "        if (!dataTable) return;\n",
              "\n",
              "        const docLinkHtml = 'Like what you see? Visit the ' +\n",
              "          '<a target=\"_blank\" href=https://colab.research.google.com/notebooks/data_table.ipynb>data table notebook</a>'\n",
              "          + ' to learn more about interactive tables.';\n",
              "        element.innerHTML = '';\n",
              "        dataTable['output_type'] = 'display_data';\n",
              "        await google.colab.output.renderOutput(dataTable, element);\n",
              "        const docLink = document.createElement('div');\n",
              "        docLink.innerHTML = docLinkHtml;\n",
              "        element.appendChild(docLink);\n",
              "      }\n",
              "    </script>\n",
              "  </div>\n",
              "\n",
              "\n",
              "<div id=\"df-89ff5ed7-bdba-4d2d-aadb-95a3f0ed77ef\">\n",
              "  <button class=\"colab-df-quickchart\" onclick=\"quickchart('df-89ff5ed7-bdba-4d2d-aadb-95a3f0ed77ef')\"\n",
              "            title=\"Suggest charts\"\n",
              "            style=\"display:none;\">\n",
              "\n",
              "<svg xmlns=\"http://www.w3.org/2000/svg\" height=\"24px\"viewBox=\"0 0 24 24\"\n",
              "     width=\"24px\">\n",
              "    <g>\n",
              "        <path d=\"M19 3H5c-1.1 0-2 .9-2 2v14c0 1.1.9 2 2 2h14c1.1 0 2-.9 2-2V5c0-1.1-.9-2-2-2zM9 17H7v-7h2v7zm4 0h-2V7h2v10zm4 0h-2v-4h2v4z\"/>\n",
              "    </g>\n",
              "</svg>\n",
              "  </button>\n",
              "\n",
              "<style>\n",
              "  .colab-df-quickchart {\n",
              "      --bg-color: #E8F0FE;\n",
              "      --fill-color: #1967D2;\n",
              "      --hover-bg-color: #E2EBFA;\n",
              "      --hover-fill-color: #174EA6;\n",
              "      --disabled-fill-color: #AAA;\n",
              "      --disabled-bg-color: #DDD;\n",
              "  }\n",
              "\n",
              "  [theme=dark] .colab-df-quickchart {\n",
              "      --bg-color: #3B4455;\n",
              "      --fill-color: #D2E3FC;\n",
              "      --hover-bg-color: #434B5C;\n",
              "      --hover-fill-color: #FFFFFF;\n",
              "      --disabled-bg-color: #3B4455;\n",
              "      --disabled-fill-color: #666;\n",
              "  }\n",
              "\n",
              "  .colab-df-quickchart {\n",
              "    background-color: var(--bg-color);\n",
              "    border: none;\n",
              "    border-radius: 50%;\n",
              "    cursor: pointer;\n",
              "    display: none;\n",
              "    fill: var(--fill-color);\n",
              "    height: 32px;\n",
              "    padding: 0;\n",
              "    width: 32px;\n",
              "  }\n",
              "\n",
              "  .colab-df-quickchart:hover {\n",
              "    background-color: var(--hover-bg-color);\n",
              "    box-shadow: 0 1px 2px rgba(60, 64, 67, 0.3), 0 1px 3px 1px rgba(60, 64, 67, 0.15);\n",
              "    fill: var(--button-hover-fill-color);\n",
              "  }\n",
              "\n",
              "  .colab-df-quickchart-complete:disabled,\n",
              "  .colab-df-quickchart-complete:disabled:hover {\n",
              "    background-color: var(--disabled-bg-color);\n",
              "    fill: var(--disabled-fill-color);\n",
              "    box-shadow: none;\n",
              "  }\n",
              "\n",
              "  .colab-df-spinner {\n",
              "    border: 2px solid var(--fill-color);\n",
              "    border-color: transparent;\n",
              "    border-bottom-color: var(--fill-color);\n",
              "    animation:\n",
              "      spin 1s steps(1) infinite;\n",
              "  }\n",
              "\n",
              "  @keyframes spin {\n",
              "    0% {\n",
              "      border-color: transparent;\n",
              "      border-bottom-color: var(--fill-color);\n",
              "      border-left-color: var(--fill-color);\n",
              "    }\n",
              "    20% {\n",
              "      border-color: transparent;\n",
              "      border-left-color: var(--fill-color);\n",
              "      border-top-color: var(--fill-color);\n",
              "    }\n",
              "    30% {\n",
              "      border-color: transparent;\n",
              "      border-left-color: var(--fill-color);\n",
              "      border-top-color: var(--fill-color);\n",
              "      border-right-color: var(--fill-color);\n",
              "    }\n",
              "    40% {\n",
              "      border-color: transparent;\n",
              "      border-right-color: var(--fill-color);\n",
              "      border-top-color: var(--fill-color);\n",
              "    }\n",
              "    60% {\n",
              "      border-color: transparent;\n",
              "      border-right-color: var(--fill-color);\n",
              "    }\n",
              "    80% {\n",
              "      border-color: transparent;\n",
              "      border-right-color: var(--fill-color);\n",
              "      border-bottom-color: var(--fill-color);\n",
              "    }\n",
              "    90% {\n",
              "      border-color: transparent;\n",
              "      border-bottom-color: var(--fill-color);\n",
              "    }\n",
              "  }\n",
              "</style>\n",
              "\n",
              "  <script>\n",
              "    async function quickchart(key) {\n",
              "      const quickchartButtonEl =\n",
              "        document.querySelector('#' + key + ' button');\n",
              "      quickchartButtonEl.disabled = true;  // To prevent multiple clicks.\n",
              "      quickchartButtonEl.classList.add('colab-df-spinner');\n",
              "      try {\n",
              "        const charts = await google.colab.kernel.invokeFunction(\n",
              "            'suggestCharts', [key], {});\n",
              "      } catch (error) {\n",
              "        console.error('Error during call to suggestCharts:', error);\n",
              "      }\n",
              "      quickchartButtonEl.classList.remove('colab-df-spinner');\n",
              "      quickchartButtonEl.classList.add('colab-df-quickchart-complete');\n",
              "    }\n",
              "    (() => {\n",
              "      let quickchartButtonEl =\n",
              "        document.querySelector('#df-89ff5ed7-bdba-4d2d-aadb-95a3f0ed77ef button');\n",
              "      quickchartButtonEl.style.display =\n",
              "        google.colab.kernel.accessAllowed ? 'block' : 'none';\n",
              "    })();\n",
              "  </script>\n",
              "</div>\n",
              "\n",
              "    </div>\n",
              "  </div>\n"
            ],
            "application/vnd.google.colaboratory.intrinsic+json": {
              "type": "dataframe",
              "variable_name": "df_snps",
              "summary": "{\n  \"name\": \"df_snps\",\n  \"rows\": 147,\n  \"fields\": [\n    {\n      \"column\": \"Chromosome\",\n      \"properties\": {\n        \"dtype\": \"category\",\n        \"num_unique_values\": 22,\n        \"samples\": [\n          \"1\",\n          \"22\",\n          \"18\"\n        ],\n        \"semantic_type\": \"\",\n        \"description\": \"\"\n      }\n    },\n    {\n      \"column\": \"SNP\",\n      \"properties\": {\n        \"dtype\": \"string\",\n        \"num_unique_values\": 147,\n        \"samples\": [\n          \"rs56232506\",\n          \"rs11650494\",\n          \"rs10122495\"\n        ],\n        \"semantic_type\": \"\",\n        \"description\": \"\"\n      }\n    },\n    {\n      \"column\": \"Position\",\n      \"properties\": {\n        \"dtype\": \"number\",\n        \"std\": 52506478,\n        \"min\": 618965,\n        \"max\": 242382864,\n        \"num_unique_values\": 147,\n        \"samples\": [\n          47437244,\n          47345186,\n          34049779\n        ],\n        \"semantic_type\": \"\",\n        \"description\": \"\"\n      }\n    },\n    {\n      \"column\": \"cytoBand\",\n      \"properties\": {\n        \"dtype\": \"string\",\n        \"num_unique_values\": 117,\n        \"samples\": [\n          \"17q12\",\n          \"10q23.31\",\n          \"19q12\"\n        ],\n        \"semantic_type\": \"\",\n        \"description\": \"\"\n      }\n    },\n    {\n      \"column\": \"REF\",\n      \"properties\": {\n        \"dtype\": \"category\",\n        \"num_unique_values\": 10,\n        \"samples\": [\n          \"TAA\",\n          \"C\",\n          \"CGG\"\n        ],\n        \"semantic_type\": \"\",\n        \"description\": \"\"\n      }\n    },\n    {\n      \"column\": \"ALT\",\n      \"properties\": {\n        \"dtype\": \"category\",\n        \"num_unique_values\": 9,\n        \"samples\": [\n          \"TA\",\n          \"CT\",\n          \"C\"\n        ],\n        \"semantic_type\": \"\",\n        \"description\": \"\"\n      }\n    },\n    {\n      \"column\": \"Risk Allele\",\n      \"properties\": {\n        \"dtype\": \"category\",\n        \"num_unique_values\": 9,\n        \"samples\": [\n          \"TA\",\n          \"CT\",\n          \"C\"\n        ],\n        \"semantic_type\": \"\",\n        \"description\": \"\"\n      }\n    },\n    {\n      \"column\": \"RAF\",\n      \"properties\": {\n        \"dtype\": \"number\",\n        \"std\": 0.25917248442939356,\n        \"min\": 0.002,\n        \"max\": 0.991,\n        \"num_unique_values\": 140,\n        \"samples\": [\n          0.21,\n          0.729,\n          0.287\n        ],\n        \"semantic_type\": \"\",\n        \"description\": \"\"\n      }\n    },\n    {\n      \"column\": \"Func.refGene\",\n      \"properties\": {\n        \"dtype\": \"category\",\n        \"num_unique_values\": 8,\n        \"samples\": [\n          \"intronic\",\n          \"ncRNA_intronic\",\n          \"intergenic\"\n        ],\n        \"semantic_type\": \"\",\n        \"description\": \"\"\n      }\n    },\n    {\n      \"column\": \"Gene.refGene\",\n      \"properties\": {\n        \"dtype\": \"string\",\n        \"num_unique_values\": 138,\n        \"samples\": [\n          \"VGLL3;LINC00506\",\n          \"HLA-DOA;HLA-DPA1\",\n          \"MOB2\"\n        ],\n        \"semantic_type\": \"\",\n        \"description\": \"\"\n      }\n    },\n    {\n      \"column\": \"Gene.ensGene\",\n      \"properties\": {\n        \"dtype\": \"string\",\n        \"num_unique_values\": 136,\n        \"samples\": [\n          \"ENSG00000118640\",\n          \"ENSG00000263567;ENSG00000265046\",\n          \"ENSG00000265122;ENSG00000160570\"\n        ],\n        \"semantic_type\": \"\",\n        \"description\": \"\"\n      }\n    },\n    {\n      \"column\": \"Source_2018NG\",\n      \"properties\": {\n        \"dtype\": \"category\",\n        \"num_unique_values\": 2,\n        \"samples\": [\n          \"Known\",\n          \"Novel\"\n        ],\n        \"semantic_type\": \"\",\n        \"description\": \"\"\n      }\n    },\n    {\n      \"column\": \"NewPosition\",\n      \"properties\": {\n        \"dtype\": \"number\",\n        \"std\": 52312682,\n        \"min\": 715725,\n        \"max\": 241443449,\n        \"num_unique_values\": 147,\n        \"samples\": [\n          47397647,\n          49267824\n        ],\n        \"semantic_type\": \"\",\n        \"description\": \"\"\n      }\n    },\n    {\n      \"column\": \"sequence\",\n      \"properties\": {\n        \"dtype\": \"category\",\n        \"num_unique_values\": 4,\n        \"samples\": [\n          \"C\",\n          \"T\"\n        ],\n        \"semantic_type\": \"\",\n        \"description\": \"\"\n      }\n    },\n    {\n      \"column\": \"ref_sequence\",\n      \"properties\": {\n        \"dtype\": \"string\",\n        \"num_unique_values\": 147,\n        \"samples\": [\n          \"GAACCAGGCTTGGACACTTCTGCAAAACGAGTCTTCAGACCACCTCACTGATGAGGACACAGAGGCCCGGTAAGCTGTCTCTGAGCCTCAGAGTCCACAGATTTGAATCCAGGCTCCAGGCTCTCAGATCCACACTCCTCCCTTCAAGTCTTTTTAGGAATACCAAGGGGATTTTTAACACACAAGCCATGTATTTAAAGGTTTTTGCCTAAATCTATGACAATGAACATAGAAAAAGCATGATTATTTCCACAGCTATTAAAAAGGGAAACAAAACTCCCATGCATGTGGATCTTGGTGATGGATCTGGACAATTCACCTTGATGATAAAGGGACTGGTTTCTTTTGAAATATATTTTTTAGGGAAAAAAATTGTTTCGCACATAATACTTGCAGCCTACTATACTTCTAATTCTCTTTTTAAAATGCTGGTTACTTTGGGGTTAATGATGAAATCATGATGGAAATTTAAAAATTCCTTGAAATGAATGATAATAGTGACACAAGTTATCAAAACCTCTGGGATACAGCAAAGCAAGTGTTAAGAGGAAAGTTTATAGCACTAAATGCCTACATCAAAAAGTCTGAAAGATCACATATTGACAACCTCATGTCACACCTCAAGGAACTAGAGAAGCAAGAATAAACTAAACACAAAGCTAGTAGAAGAAAATGAAAAACAAAAATCAGTGCAGAACTAAATGAAATTGAAACAAAATACAAAAGATCAATGAAACAAAAAGCTGGTATTTTGAAAAGATAAACAAAACTGATAGACCATTAGCTAGATTAACCAAGAAGAGAGAAGATTCAAATAAATTCAATTAGAAATGAAACGAAACATTACAACCAGCACGAAAGATCATTCAAGACTATTATGAACACCTTTATGTATATAAACTACAAAACTGAGAGGAAATTGGTCAATTCCTGGACACAGACAACCCTCCTCGATTAAATCAGGAAGAAATAGAAACCCTGAACAGACTAGTAAAAAGCA\",\n          \"GGGAAGTCGAGATGGGCAGATCACCTGAGGTTGGGAGTTCAAGACCAGCCTGACCAACATGGAGAAACCCCGTCTCTACTGAAAATACAAAGTTAGCTGGGGGTGGTGGCGCATGCCTGTAATCCCAGTTACTTGGGAGGCTGAGGCACGAGAATCATTTGAACCAGGGAGGCAGAGGTTGCAGTGAGCCGAGATCACGCCACTGCACTCCAGCCTGGGCAACACAGCGAGACTCCGTGGAGTAAGATAAATACCAATATGCAAGAGGAAGGATGAGGAAGGGGTGCTCTGGTGAGGGCCTGGGCTGACTTGCTCAGGTATGTCACCTCGGCTCTACCAAGAATTTTCAGTGTGGCCTTGGGTGGCCGTTGCTCTCCTGGAGTCAGTTTCTTCAGCTATAAATGAGGAGGGGGAAGACTCCAGTGTATGTGTAGCACAAAATTTTGACTCAGGGTTCTCTCCTAAGGCCTGCTGCCTAATTTTAAAAACAATGGGAAACGGTGTCCCCAGGTAATTGTCCTACACATCAGTTTAGAGCACAGAAGTGAGGAGCAAGGCCAGGACAGGGGAGGAGAAGCCTGCACCTGAGGCCCAGGTACAGCTGAGCACATGTAGAGGGAGGTCAGGGAGCCATGGGCTTAGGGCAGGCAGAGGGACCATCTGGTAATGAAAGGGCTGGTCTGGGGGAATGCAGAGAAGGCAGAAGGTGCTGCAGACAGTTCTGCCAGGTCCTGGGCTTGAAGCCTACTCTCCCCTGCTCTCCCCCGACTCTCCCCTGCTGTCCCCTGCTCTCCTGCCATCCCACCACCGGTGCTTCAACTGATGGGGTAGCTCCTGTCACTAGAGTGCGTACCTGAGTTTTGTGGAGCTTTCAGACTCTCTGCAATTGGTCTCCTGAGCTGAAGTCCCCACTTCTCCCCTTCACCCTTCCCTAGGGTCTGGAAACTTGGATCACAAAAAGGTGGAAAAAACCAATTCCTTTGAAAAGGCCCTTGTTCTT\"\n        ],\n        \"semantic_type\": \"\",\n        \"description\": \"\"\n      }\n    },\n    {\n      \"column\": \"alt_sequence\",\n      \"properties\": {\n        \"dtype\": \"string\",\n        \"num_unique_values\": 147,\n        \"samples\": [\n          \"GAACCAGGCTTGGACACTTCTGCAAAACGAGTCTTCAGACCACCTCACTGATGAGGACACAGAGGCCCGGTAAGCTGTCTCTGAGCCTCAGAGTCCACAGATTTGAATCCAGGCTCCAGGCTCTCAGATCCACACTCCTCCCTTCAAGTCTTTTTAGGAATACCAAGGGGATTTTTAACACACAAGCCATGTATTTAAAGGTTTTTGCCTAAATCTATGACAATGAACATAGAAAAAGCATGATTATTTCCACAGCTATTAAAAAGGGAAACAAAACTCCCATGCATGTGGATCTTGGTGATGGATCTGGACAATTCACCTTGATGATAAAGGGACTGGTTTCTTTTGAAATATATTTTTTAGGGAAAAAAATTGTTTCGCACATAATACTTGCAGCCTACTATACTTCTAATTCTCTTTTTAAAATGCTGGTTACTTTGGGGTTAATGATGAAATCATGATGGAAATTTAAAAATTCCTTGAAATGAATGATAATAGTAACACAAGTTATCAAAACCTCTGGGATACAGCAAAGCAAGTGTTAAGAGGAAAGTTTATAGCACTAAATGCCTACATCAAAAAGTCTGAAAGATCACATATTGACAACCTCATGTCACACCTCAAGGAACTAGAGAAGCAAGAATAAACTAAACACAAAGCTAGTAGAAGAAAATGAAAAACAAAAATCAGTGCAGAACTAAATGAAATTGAAACAAAATACAAAAGATCAATGAAACAAAAAGCTGGTATTTTGAAAAGATAAACAAAACTGATAGACCATTAGCTAGATTAACCAAGAAGAGAGAAGATTCAAATAAATTCAATTAGAAATGAAACGAAACATTACAACCAGCACGAAAGATCATTCAAGACTATTATGAACACCTTTATGTATATAAACTACAAAACTGAGAGGAAATTGGTCAATTCCTGGACACAGACAACCCTCCTCGATTAAATCAGGAAGAAATAGAAACCCTGAACAGACTAGTAAAAAGCA\",\n          \"GGGAAGTCGAGATGGGCAGATCACCTGAGGTTGGGAGTTCAAGACCAGCCTGACCAACATGGAGAAACCCCGTCTCTACTGAAAATACAAAGTTAGCTGGGGGTGGTGGCGCATGCCTGTAATCCCAGTTACTTGGGAGGCTGAGGCACGAGAATCATTTGAACCAGGGAGGCAGAGGTTGCAGTGAGCCGAGATCACGCCACTGCACTCCAGCCTGGGCAACACAGCGAGACTCCGTGGAGTAAGATAAATACCAATATGCAAGAGGAAGGATGAGGAAGGGGTGCTCTGGTGAGGGCCTGGGCTGACTTGCTCAGGTATGTCACCTCGGCTCTACCAAGAATTTTCAGTGTGGCCTTGGGTGGCCGTTGCTCTCCTGGAGTCAGTTTCTTCAGCTATAAATGAGGAGGGGGAAGACTCCAGTGTATGTGTAGCACAAAATTTTGACTCAGGGTTCTCTCCTAAGGCCTGCTGCCTAATTTTAAAAACAATGGGAAACAGTGTCCCCAGGTAATTGTCCTACACATCAGTTTAGAGCACAGAAGTGAGGAGCAAGGCCAGGACAGGGGAGGAGAAGCCTGCACCTGAGGCCCAGGTACAGCTGAGCACATGTAGAGGGAGGTCAGGGAGCCATGGGCTTAGGGCAGGCAGAGGGACCATCTGGTAATGAAAGGGCTGGTCTGGGGGAATGCAGAGAAGGCAGAAGGTGCTGCAGACAGTTCTGCCAGGTCCTGGGCTTGAAGCCTACTCTCCCCTGCTCTCCCCCGACTCTCCCCTGCTGTCCCCTGCTCTCCTGCCATCCCACCACCGGTGCTTCAACTGATGGGGTAGCTCCTGTCACTAGAGTGCGTACCTGAGTTTTGTGGAGCTTTCAGACTCTCTGCAATTGGTCTCCTGAGCTGAAGTCCCCACTTCTCCCCTTCACCCTTCCCTAGGGTCTGGAAACTTGGATCACAAAAAGGTGGAAAAAACCAATTCCTTTGAAAAGGCCCTTGTTCTT\"\n        ],\n        \"semantic_type\": \"\",\n        \"description\": \"\"\n      }\n    },\n    {\n      \"column\": \"delta\",\n      \"properties\": {\n        \"dtype\": \"number\",\n        \"std\": 0.0,\n        \"min\": 0.0,\n        \"max\": 0.0,\n        \"num_unique_values\": 1,\n        \"samples\": [\n          0.0\n        ],\n        \"semantic_type\": \"\",\n        \"description\": \"\"\n      }\n    },\n    {\n      \"column\": \"ref_pred\",\n      \"properties\": {\n        \"dtype\": \"number\",\n        \"std\": 0.33571945049775476,\n        \"min\": 9.28596818994265e-07,\n        \"max\": 0.998596727848053,\n        \"num_unique_values\": 147,\n        \"samples\": [\n          0.004002564121037722\n        ],\n        \"semantic_type\": \"\",\n        \"description\": \"\"\n      }\n    },\n    {\n      \"column\": \"alt_pred\",\n      \"properties\": {\n        \"dtype\": \"number\",\n        \"std\": 0.33571945049775476,\n        \"min\": 9.28596818994265e-07,\n        \"max\": 0.998596727848053,\n        \"num_unique_values\": 147,\n        \"samples\": [\n          0.004002564121037722\n        ],\n        \"semantic_type\": \"\",\n        \"description\": \"\"\n      }\n    }\n  ]\n}"
            }
          },
          "metadata": {},
          "execution_count": 32
        }
      ]
    }
  ]
}