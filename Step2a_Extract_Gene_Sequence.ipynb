{
  "cells": [
    {
      "cell_type": "markdown",
      "metadata": {
        "id": "view-in-github",
        "colab_type": "text"
      },
      "source": [
        "<a href=\"https://colab.research.google.com/github/atharv946/Chromatin-Accessibility/blob/main/Step2a_Extract_Gene_Sequence.ipynb\" target=\"_parent\"><img src=\"https://colab.research.google.com/assets/colab-badge.svg\" alt=\"Open In Colab\"/></a>"
      ]
    },
    {
      "cell_type": "code",
      "execution_count": null,
      "metadata": {
        "colab": {
          "base_uri": "https://localhost:8080/"
        },
        "id": "6iiDnqhRSEE4",
        "outputId": "16fa3ec2-b12e-482b-fde5-4c7ab42437c1"
      },
      "outputs": [
        {
          "output_type": "stream",
          "name": "stdout",
          "text": [
            "Collecting biopython\n",
            "  Downloading biopython-1.85-cp311-cp311-manylinux_2_17_x86_64.manylinux2014_x86_64.whl.metadata (13 kB)\n",
            "Requirement already satisfied: numpy in /usr/local/lib/python3.11/dist-packages (from biopython) (1.26.4)\n",
            "Downloading biopython-1.85-cp311-cp311-manylinux_2_17_x86_64.manylinux2014_x86_64.whl (3.3 MB)\n",
            "\u001b[?25l   \u001b[90m━━━━━━━━━━━━━━━━━━━━━━━━━━━━━━━━━━━━━━━━\u001b[0m \u001b[32m0.0/3.3 MB\u001b[0m \u001b[31m?\u001b[0m eta \u001b[36m-:--:--\u001b[0m\r\u001b[2K   \u001b[91m━━━━━━━\u001b[0m\u001b[90m╺\u001b[0m\u001b[90m━━━━━━━━━━━━━━━━━━━━━━━━━━━━━━━━\u001b[0m \u001b[32m0.6/3.3 MB\u001b[0m \u001b[31m17.1 MB/s\u001b[0m eta \u001b[36m0:00:01\u001b[0m\r\u001b[2K   \u001b[91m━━━━━━━━━━━━━━━━━━━━━━━━━━━━━━━━━━━━━━━\u001b[0m\u001b[91m╸\u001b[0m \u001b[32m3.3/3.3 MB\u001b[0m \u001b[31m44.2 MB/s\u001b[0m eta \u001b[36m0:00:01\u001b[0m\r\u001b[2K   \u001b[91m━━━━━━━━━━━━━━━━━━━━━━━━━━━━━━━━━━━━━━━\u001b[0m\u001b[91m╸\u001b[0m \u001b[32m3.3/3.3 MB\u001b[0m \u001b[31m44.2 MB/s\u001b[0m eta \u001b[36m0:00:01\u001b[0m\r\u001b[2K   \u001b[90m━━━━━━━━━━━━━━━━━━━━━━━━━━━━━━━━━━━━━━━━\u001b[0m \u001b[32m3.3/3.3 MB\u001b[0m \u001b[31m27.4 MB/s\u001b[0m eta \u001b[36m0:00:00\u001b[0m\n",
            "\u001b[?25hInstalling collected packages: biopython\n",
            "Successfully installed biopython-1.85\n"
          ]
        }
      ],
      "source": [
        "pip install biopython"
      ]
    },
    {
      "cell_type": "code",
      "execution_count": null,
      "metadata": {
        "id": "73Ow9KuzSvDR",
        "colab": {
          "base_uri": "https://localhost:8080/"
        },
        "outputId": "4f80fbad-f029-48da-c934-21279a8c8b13"
      },
      "outputs": [
        {
          "output_type": "stream",
          "name": "stdout",
          "text": [
            "Mounted at /content/drive\n"
          ]
        }
      ],
      "source": [
        "from google.colab import drive\n",
        "drive.mount('/content/drive')"
      ]
    },
    {
      "cell_type": "code",
      "source": [
        "import pandas as pd\n",
        "df1 = pd.read_csv('/content/drive/MyDrive/1:1_Atharv_Gupta/Datasets/chr1_chromatin_accesibility.csv')\n",
        "df2 = pd.read_csv('/content/drive/MyDrive/1:1_Atharv_Gupta/Datasets/chr2_chromatin_accesibility.csv')\n",
        "df3 = pd.read_csv('/content/drive/MyDrive/1:1_Atharv_Gupta/Datasets/chr3_chromatin_accesibility.csv')\n",
        "df4 = pd.read_csv('/content/drive/MyDrive/1:1_Atharv_Gupta/Datasets/chr4_chromatin_accesibility.csv')\n",
        "df5 = pd.read_csv('/content/drive/MyDrive/1:1_Atharv_Gupta/Datasets/chr5_chromatin_accesibility.csv')\n",
        "df6 = pd.read_csv('/content/drive/MyDrive/1:1_Atharv_Gupta/Datasets/chr6_chromatin_accesibility.csv')\n",
        "df7 = pd.read_csv('/content/drive/MyDrive/1:1_Atharv_Gupta/Datasets/chr7_chromatin_accesibility.csv')\n",
        "df8 = pd.read_csv('/content/drive/MyDrive/1:1_Atharv_Gupta/Datasets/chr8_chromatin_accesibility.csv')\n",
        "df9 = pd.read_csv('/content/drive/MyDrive/1:1_Atharv_Gupta/Datasets/chr9_chromatin_accesibility.csv')\n",
        "df10 = pd.read_csv('/content/drive/MyDrive/1:1_Atharv_Gupta/Datasets/chr10_chromatin_accesibility.csv')\n",
        "df11 = pd.read_csv('/content/drive/MyDrive/1:1_Atharv_Gupta/Datasets/chr11_chromatin_accesibility.csv')\n",
        "df12 = pd.read_csv('/content/drive/MyDrive/1:1_Atharv_Gupta/Datasets/chr12_chromatin_accesibility.csv')\n",
        "df13 = pd.read_csv('/content/drive/MyDrive/1:1_Atharv_Gupta/Datasets/chr13_chromatin_accesibility.csv')\n",
        "df14 = pd.read_csv('/content/drive/MyDrive/1:1_Atharv_Gupta/Datasets/chr14_chromatin_accesibility.csv')\n",
        "df15 = pd.read_csv('/content/drive/MyDrive/1:1_Atharv_Gupta/Datasets/chr15_chromatin_accesibility.csv')\n",
        "df16 = pd.read_csv('/content/drive/MyDrive/1:1_Atharv_Gupta/Datasets/chr16_chromatin_accesibility.csv')\n",
        "df17 = pd.read_csv('/content/drive/MyDrive/1:1_Atharv_Gupta/Datasets/chr17_chromatin_accesibility.csv')\n",
        "df18 = pd.read_csv('/content/drive/MyDrive/1:1_Atharv_Gupta/Datasets/chr18_chromatin_accesibility.csv')\n",
        "df19 = pd.read_csv('/content/drive/MyDrive/1:1_Atharv_Gupta/Datasets/chr19_chromatin_accesibility.csv')\n",
        "df20 = pd.read_csv('/content/drive/MyDrive/1:1_Atharv_Gupta/Datasets/chr20_chromatin_accesibility.csv')\n",
        "df21 = pd.read_csv('/content/drive/MyDrive/1:1_Atharv_Gupta/Datasets/chr21_chromatin_accesibility.csv')\n",
        "df22 = pd.read_csv('/content/drive/MyDrive/1:1_Atharv_Gupta/Datasets/chr22_chromatin_accesibility.csv')\n",
        "dfX = pd.read_csv('/content/drive/MyDrive/1:1_Atharv_Gupta/Datasets/chrX_chromatin_accesibility.csv')\n",
        "dfY = pd.read_csv('/content/drive/MyDrive/1:1_Atharv_Gupta/Datasets/chrY_chromatin_accesibility.csv')"
      ],
      "metadata": {
        "id": "qMf5fj3Ap_yf"
      },
      "execution_count": null,
      "outputs": []
    },
    {
      "cell_type": "code",
      "source": [
        "import pandas as pd\n",
        "\n",
        "from Bio import SeqIO\n",
        "\n",
        "\n",
        "\n",
        "def extract_sequences_and_update_dataframe(fasta_file, df):\n",
        "\n",
        "    \"\"\"\n",
        "\n",
        "    Extract sequences from a FASTA file given a chromosome and positions from a DataFrame,\n",
        "\n",
        "    and update the DataFrame with a new column containing the extracted sequences.\n",
        "\n",
        "\n",
        "\n",
        "    :param fasta_file: Path to the FASTA file containing the genomic data.\n",
        "\n",
        "    :param chromosome_name: Name of the chromosome (e.g., 'chr1').\n",
        "\n",
        "    :param df: Pandas DataFrame containing 'start' and 'end' columns.\n",
        "\n",
        "    :return: The updated DataFrame with a new 'sequence' column.\n",
        "\n",
        "    \"\"\"\n",
        "\n",
        "    # Adding a new column to store the sequences\n",
        "\n",
        "    df['sequence'] = None\n",
        "\n",
        "    with open(fasta_file, \"r\") as handle:\n",
        "\n",
        "        for record in SeqIO.parse(handle, \"fasta\"):\n",
        "\n",
        "            #if record.id == chromosome_name:\n",
        "\n",
        "            for index, row in df.iterrows():\n",
        "\n",
        "                start = row['start']\n",
        "\n",
        "                end = row['end']\n",
        "\n",
        "                midpoint = start + (end - start) / 2\n",
        "\n",
        "                start = int(midpoint - 500)\n",
        "\n",
        "                end = int(midpoint + 500)\n",
        "\n",
        "                # Convert start and end to 0-based index for Python slicing\n",
        "\n",
        "                sequence = record.seq[start-1:end]\n",
        "\n",
        "                df.at[index, 'sequence'] = str(sequence)\n",
        "\n",
        "                df.at[index, 'accessibility'] = 1\n",
        "\n",
        "            break  # Exit the loop once the chromosome is found and processed\n",
        "\n",
        "\n",
        "\n",
        "    return df"
      ],
      "metadata": {
        "id": "hbBDNOScpnbj"
      },
      "execution_count": null,
      "outputs": []
    },
    {
      "cell_type": "code",
      "source": [
        "fasta_path1 = \"/content/drive/MyDrive/1:1_Atharv_Gupta/Code/Homo_sapiens.GRCh38.dna.chromosome.1.fa 2\"\n",
        "updated_df1 = extract_sequences_and_update_dataframe(fasta_path1, df1)\n",
        "fasta_path2 = \"/content/drive/MyDrive/1:1_Atharv_Gupta/Code/Homo_sapiens.GRCh38.dna.chromosome.2.fa\"\n",
        "updated_df2 = extract_sequences_and_update_dataframe(fasta_path2, df2)\n",
        "fasta_path3 = \"/content/drive/MyDrive/1:1_Atharv_Gupta/Code/Homo_sapiens.GRCh38.dna.chromosome.3.fa\"\n",
        "updated_df3 = extract_sequences_and_update_dataframe(fasta_path3, df3)\n",
        "fasta_path4 = \"/content/drive/MyDrive/1:1_Atharv_Gupta/Code/Homo_sapiens.GRCh38.dna.chromosome.4.fa\"\n",
        "updated_df4 = extract_sequences_and_update_dataframe(fasta_path4, df4)\n",
        "fasta_path5 = \"/content/drive/MyDrive/1:1_Atharv_Gupta/Code/Homo_sapiens.GRCh38.dna.chromosome.5.fa\"\n",
        "updated_df5 = extract_sequences_and_update_dataframe(fasta_path5, df5)\n",
        "fasta_path6 = \"/content/drive/MyDrive/1:1_Atharv_Gupta/Code/Homo_sapiens.GRCh38.dna.chromosome.6.fa\"\n",
        "updated_df6 = extract_sequences_and_update_dataframe(fasta_path6, df6)\n",
        "fasta_path7 = \"/content/drive/MyDrive/1:1_Atharv_Gupta/Code/Homo_sapiens.GRCh38.dna.chromosome.7.fa\"\n",
        "updated_df7 = extract_sequences_and_update_dataframe(fasta_path7, df7)\n",
        "fasta_path8 = \"/content/drive/MyDrive/1:1_Atharv_Gupta/Code/Homo_sapiens.GRCh38.dna.chromosome.8.fa\"\n",
        "updated_df8 = extract_sequences_and_update_dataframe(fasta_path8, df8)\n",
        "fasta_path9 = \"/content/drive/MyDrive/1:1_Atharv_Gupta/Code/Homo_sapiens.GRCh38.dna.chromosome.9.fa\"\n",
        "updated_df9 = extract_sequences_and_update_dataframe(fasta_path9, df9)\n",
        "fasta_path10 = \"/content/drive/MyDrive/1:1_Atharv_Gupta/Code/Homo_sapiens.GRCh38.dna.chromosome.10.fa\"\n",
        "updated_df10 = extract_sequences_and_update_dataframe(fasta_path10, df10)\n",
        "fasta_path11 = \"/content/drive/MyDrive/1:1_Atharv_Gupta/Code/Homo_sapiens.GRCh38.dna.chromosome.11.fa\"\n",
        "updated_df11 = extract_sequences_and_update_dataframe(fasta_path11, df11)\n",
        "fasta_path12 = \"/content/drive/MyDrive/1:1_Atharv_Gupta/Code/Homo_sapiens.GRCh38.dna.chromosome.12.fa\"\n",
        "updated_df12 = extract_sequences_and_update_dataframe(fasta_path12, df12)\n",
        "fasta_path13 = \"/content/drive/MyDrive/1:1_Atharv_Gupta/Code/Homo_sapiens.GRCh38.dna.chromosome.13.fa\"\n",
        "updated_df13 = extract_sequences_and_update_dataframe(fasta_path13, df13)\n",
        "fasta_path14 = \"/content/drive/MyDrive/1:1_Atharv_Gupta/Code/Homo_sapiens.GRCh38.dna.chromosome.14.fa\"\n",
        "updated_df14 = extract_sequences_and_update_dataframe(fasta_path14, df14)\n",
        "fasta_path15 = \"/content/drive/MyDrive/1:1_Atharv_Gupta/Code/Homo_sapiens.GRCh38.dna.chromosome.15.fa\"\n",
        "updated_df15 = extract_sequences_and_update_dataframe(fasta_path15, df15)\n",
        "fasta_path16 = \"/content/drive/MyDrive/1:1_Atharv_Gupta/Code/Homo_sapiens.GRCh38.dna.chromosome.16.fa\"\n",
        "updated_df16 = extract_sequences_and_update_dataframe(fasta_path16, df16)\n",
        "fasta_path17 = \"/content/drive/MyDrive/1:1_Atharv_Gupta/Code/Homo_sapiens.GRCh38.dna.chromosome.17.fa\"\n",
        "updated_df17 = extract_sequences_and_update_dataframe(fasta_path17, df17)\n",
        "fasta_path18 = \"/content/drive/MyDrive/1:1_Atharv_Gupta/Code/Homo_sapiens.GRCh38.dna.chromosome.18.fa\"\n",
        "updated_df18 = extract_sequences_and_update_dataframe(fasta_path18, df18)\n",
        "fasta_path19 = \"/content/drive/MyDrive/1:1_Atharv_Gupta/Code/Homo_sapiens.GRCh38.dna.chromosome.19.fa\"\n",
        "updated_df19 = extract_sequences_and_update_dataframe(fasta_path19, df19)\n",
        "fasta_path20 = \"/content/drive/MyDrive/1:1_Atharv_Gupta/Code/Homo_sapiens.GRCh38.dna.chromosome.20.fa\"\n",
        "updated_df20 = extract_sequences_and_update_dataframe(fasta_path20, df20)\n",
        "fasta_path21 = \"/content/drive/MyDrive/1:1_Atharv_Gupta/Code/Homo_sapiens.GRCh38.dna.chromosome.21.fa\"\n",
        "updated_df21 = extract_sequences_and_update_dataframe(fasta_path21, df21)\n",
        "fasta_path22 = \"/content/drive/MyDrive/1:1_Atharv_Gupta/Code/Homo_sapiens.GRCh38.dna.chromosome.22.fa\"\n",
        "updated_df22 = extract_sequences_and_update_dataframe(fasta_path22, df22)\n",
        "fasta_pathX = \"/content/drive/MyDrive/1:1_Atharv_Gupta/Code/Homo_sapiens.GRCh38.dna.chromosome.X.fa\"\n",
        "updated_dfX = extract_sequences_and_update_dataframe(fasta_pathX, dfX)\n",
        "fasta_pathY = \"/content/drive/MyDrive/1:1_Atharv_Gupta/Code/Homo_sapiens.GRCh38.dna.chromosome.Y.fa\"\n",
        "updated_dfY = extract_sequences_and_update_dataframe(fasta_pathY, dfY)\n",
        "\n",
        "\n",
        "print(updated_df1)"
      ],
      "metadata": {
        "colab": {
          "base_uri": "https://localhost:8080/"
        },
        "id": "vFeiqq8vqM7i",
        "outputId": "1ff9a4bd-828d-4e8d-cfa6-4a7a853b2607"
      },
      "execution_count": null,
      "outputs": [
        {
          "output_type": "stream",
          "name": "stdout",
          "text": [
            "          start        end  signalValue  \\\n",
            "0        778660     778860     5.527550   \n",
            "1        867753     867820     0.596724   \n",
            "2        911296     911420     1.413290   \n",
            "3       1000121    1000226     1.852980   \n",
            "4       1013364    1013514     1.130630   \n",
            "...         ...        ...          ...   \n",
            "6882  248843100  248843300     5.873020   \n",
            "6883  248873680  248874200     2.669550   \n",
            "6884  248906130  248906220     0.816570   \n",
            "6885  248906383  248906532     1.319070   \n",
            "6886  248926576  248926674     0.847976   \n",
            "\n",
            "                                               sequence  accessibility  \n",
            "0     TAAATTTTTTTAGACAGGGTTTACCTCAATCTCGCAGGCTGGAATG...            1.0  \n",
            "1     TGATTTGGACTGTGGAGAGATTCAACTGCCCTGCTTAGCATTTGAG...            1.0  \n",
            "2     CAATTCACAGAGCTTGACTATGACCCAAAGGTGAGGTCAGGACTCC...            1.0  \n",
            "3     GCCTTCGCCCCCGACTTACCTCTTTTCTGAGGGCGTCCAGGATGAG...            1.0  \n",
            "4     GGATCGCTTTAGCCTGGCAGGCGGAGGTTGCAATGAGATGAGATCG...            1.0  \n",
            "...                                                 ...            ...  \n",
            "6882  CTTCTATCTCATCTGGATTTCAGGGCAGTCTAGGGGTATCACAGAA...            1.0  \n",
            "6883  ATGATAATGAAGAAAAACAAAAGCATCCATTCGTCACTTAGTGGCA...            1.0  \n",
            "6884  TATCCGTGACCCTGCCTCCTATAATGCACAGGACAGCCTCCTTCCC...            1.0  \n",
            "6885  GAACCACTACCCTAGAAAGTCCCCATGCTCTCCTGATTAGGAAGGA...            1.0  \n",
            "6886  GCTGAAAAAAGGTGGTGATGCCCTGAAATTCAGCAAACTGCAGGGA...            1.0  \n",
            "\n",
            "[6887 rows x 5 columns]\n"
          ]
        }
      ]
    },
    {
      "cell_type": "code",
      "source": [
        "print(updated_df22)"
      ],
      "metadata": {
        "colab": {
          "base_uri": "https://localhost:8080/"
        },
        "id": "gyPQdDuD8htx",
        "outputId": "cb46349a-fe95-4063-d858-315834e37ef4"
      },
      "execution_count": null,
      "outputs": [
        {
          "output_type": "stream",
          "name": "stdout",
          "text": [
            "         start       end  signalValue  \\\n",
            "0     15772480  15772574     0.659537   \n",
            "1     16915828  16915980     0.753757   \n",
            "2     17058317  17058411     0.659537   \n",
            "3     17075041  17075194     0.816570   \n",
            "4     17075720  17075900     1.036420   \n",
            "...        ...       ...          ...   \n",
            "1127  50623111  50623218     1.005010   \n",
            "1128  50675100  50675280     1.790170   \n",
            "1129  50749420  50749612     1.036420   \n",
            "1130  50760016  50760217     1.790170   \n",
            "1131  50783561  50783700     1.413290   \n",
            "\n",
            "                                               sequence  accessibility  \n",
            "0     ATAATAAAACAAAATTACTGGCCAGGCACAGTGTCTCATGCCTGTA...            1.0  \n",
            "1     TCCCACAAGCACAGACGGGCAGAGGGCCTGCAAATGAAAAGTGCTC...            1.0  \n",
            "2     TCCTTAGCATGGCCAGGGAGGACAGCCCTCCATGATCCTCCCCTCC...            1.0  \n",
            "3     GGGATTACAGGTGTGAGCGACCACGACTGGCCATGAATTTTTTAGT...            1.0  \n",
            "4     ACGCGCCTGTAGTCCCAGCTACTCGGCAGGCTGAGGCAGGGGAATC...            1.0  \n",
            "...                                                 ...            ...  \n",
            "1127  CACGCAGGCACATGTGCCCGCCACACAACCATTCATAGGCCACATT...            1.0  \n",
            "1128  GACCTGCAGCAGACGGTGAGCCCCGCCGCCCTGGGCCCGGCCGTGC...            1.0  \n",
            "1129  GAGGGATGTGCTCACTGTTTTCTCATGGGACGGCTAAGCAAATGAA...            1.0  \n",
            "1130  TTTAGCCATTCCACAATGTATACATATATCAAAACATCATGTCGTA...            1.0  \n",
            "1131  TCACTCTGTCGCCCAGGCTGGAGTGCGGTGGCGCGATCACGGCTCA...            1.0  \n",
            "\n",
            "[1132 rows x 5 columns]\n"
          ]
        }
      ]
    },
    {
      "cell_type": "code",
      "source": [
        "combined_df = pd.concat([updated_df1, updated_df2, updated_df3, updated_df4, updated_df5, updated_df6, updated_df7, updated_df8, updated_df9, updated_df10, updated_df11, updated_df12, updated_df13, updated_df14, updated_df15, updated_df16, updated_df17, updated_df18, updated_df19, updated_df20, updated_df21, updated_df22, updated_dfX, updated_dfY], ignore_index=True)\n",
        "print(combined_df)\n",
        "\n",
        "\n",
        "combined_df.to_csv('/content/drive/MyDrive/1:1_Atharv_Gupta/Datasets/final_dataset_positive_1k.csv', index=False)"
      ],
      "metadata": {
        "id": "LcEXUzXwqo1B",
        "colab": {
          "base_uri": "https://localhost:8080/"
        },
        "outputId": "5e32c7d5-0fa0-4c2a-8d1e-096bc9fa2cab"
      },
      "execution_count": null,
      "outputs": [
        {
          "output_type": "stream",
          "name": "stdout",
          "text": [
            "          start       end  signalValue  \\\n",
            "0        778660    778860     5.527550   \n",
            "1        867753    867820     0.596724   \n",
            "2        911296    911420     1.413290   \n",
            "3       1000121   1000226     1.852980   \n",
            "4       1013364   1013514     1.130630   \n",
            "...         ...       ...          ...   \n",
            "73661  21422320  21422556     0.408285   \n",
            "73662  21659260  21659420     0.628130   \n",
            "73663  21850815  21850899     0.628130   \n",
            "73664  22370740  22370920     1.067820   \n",
            "73665  26447248  26447374     0.376878   \n",
            "\n",
            "                                                sequence  accessibility  \n",
            "0      TAAATTTTTTTAGACAGGGTTTACCTCAATCTCGCAGGCTGGAATG...            1.0  \n",
            "1      TGATTTGGACTGTGGAGAGATTCAACTGCCCTGCTTAGCATTTGAG...            1.0  \n",
            "2      CAATTCACAGAGCTTGACTATGACCCAAAGGTGAGGTCAGGACTCC...            1.0  \n",
            "3      GCCTTCGCCCCCGACTTACCTCTTTTCTGAGGGCGTCCAGGATGAG...            1.0  \n",
            "4      GGATCGCTTTAGCCTGGCAGGCGGAGGTTGCAATGAGATGAGATCG...            1.0  \n",
            "...                                                  ...            ...  \n",
            "73661  GGGGTTTCTTATATCACAGGATGGAGGTGTGGCAGGATGGAGGTGT...            1.0  \n",
            "73662  CAGAACTGGAAAGGCTGATGGCAGCATGTACCTCTTTCTTTCTTGA...            1.0  \n",
            "73663  TTCTGAGTACTCATAATTACTCCTCTATGGCTCAATAACTGCTGCA...            1.0  \n",
            "73664  GCCCTGAAAGGAGAATAAAACTCCAACGAATTGCAGAAGGGACTTG...            1.0  \n",
            "73665  TAAATACCAGATTAGAATACAGTTTTTAGGCTTGGTGCAGTGGCTT...            1.0  \n",
            "\n",
            "[73666 rows x 5 columns]\n"
          ]
        }
      ]
    }
  ],
  "metadata": {
    "colab": {
      "provenance": [],
      "include_colab_link": true
    },
    "kernelspec": {
      "display_name": "Python 3",
      "name": "python3"
    },
    "language_info": {
      "name": "python"
    }
  },
  "nbformat": 4,
  "nbformat_minor": 0
}