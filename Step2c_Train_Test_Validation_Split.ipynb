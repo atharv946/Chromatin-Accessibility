{
  "nbformat": 4,
  "nbformat_minor": 0,
  "metadata": {
    "colab": {
      "provenance": [],
      "mount_file_id": "1eCWI3jf0xW_wIdrNkN8Y534qmcBjgGY0",
      "authorship_tag": "ABX9TyMYwXOvRl3Ei/VA9SH78mZ9",
      "include_colab_link": true
    },
    "kernelspec": {
      "name": "python3",
      "display_name": "Python 3"
    },
    "language_info": {
      "name": "python"
    }
  },
  "cells": [
    {
      "cell_type": "markdown",
      "metadata": {
        "id": "view-in-github",
        "colab_type": "text"
      },
      "source": [
        "<a href=\"https://colab.research.google.com/github/atharv946/Chromatin-Accessibility/blob/main/Step2c_Train_Test_Validation_Split.ipynb\" target=\"_parent\"><img src=\"https://colab.research.google.com/assets/colab-badge.svg\" alt=\"Open In Colab\"/></a>"
      ]
    },
    {
      "cell_type": "code",
      "execution_count": null,
      "metadata": {
        "id": "Pm1N6rorU_bA"
      },
      "outputs": [],
      "source": [
        "import pandas as pd\n",
        "import numpy as np\n",
        "from sklearn.model_selection import train_test_split"
      ]
    },
    {
      "cell_type": "code",
      "source": [
        "from google.colab import drive\n",
        "drive.mount('/content/drive')"
      ],
      "metadata": {
        "colab": {
          "base_uri": "https://localhost:8080/"
        },
        "id": "ka8-gj4uVIAv",
        "outputId": "a1f2f2fe-bf52-47d9-b34a-b15ecd512dd1"
      },
      "execution_count": null,
      "outputs": [
        {
          "output_type": "stream",
          "name": "stdout",
          "text": [
            "Drive already mounted at /content/drive; to attempt to forcibly remount, call drive.mount(\"/content/drive\", force_remount=True).\n"
          ]
        }
      ]
    },
    {
      "cell_type": "code",
      "source": [
        "positive_df = pd.read_csv('/content/drive/MyDrive/1:1_Atharv_Gupta/Datasets/final_dataset_positive_1k.csv')\n",
        "positive_df = positive_df.iloc[:, 2:5]\n",
        "negative_df = pd.read_csv('/content/drive/MyDrive/1:1_Atharv_Gupta/Datasets/final_dataset_random_1k.csv')\n",
        "negative_df = negative_df.iloc[:, 1:4]\n",
        "\n",
        "# Merge the DataFrames\n",
        "combined_df = pd.concat([positive_df, negative_df], ignore_index=True)\n",
        "\n",
        "# Shuffle the data\n",
        "print(combined_df)\n",
        "for index, row in negative_df.iterrows():\n",
        "  if not isinstance(row['sequence'], str):\n",
        "    print(index, row['signalValue'])\n",
        "\n",
        "combined_df = combined_df.sample(frac=1, random_state=42)"
      ],
      "metadata": {
        "id": "O88vtxgVVYPc",
        "colab": {
          "base_uri": "https://localhost:8080/"
        },
        "outputId": "5ea57dda-c5d1-452f-f0a0-8df167ca3bd7"
      },
      "execution_count": null,
      "outputs": [
        {
          "output_type": "stream",
          "name": "stdout",
          "text": [
            "        signalValue                                           sequence  \\\n",
            "0          5.527550  TAAATTTTTTTAGACAGGGTTTACCTCAATCTCGCAGGCTGGAATG...   \n",
            "1          0.596724  TGATTTGGACTGTGGAGAGATTCAACTGCCCTGCTTAGCATTTGAG...   \n",
            "2          1.413290  CAATTCACAGAGCTTGACTATGACCCAAAGGTGAGGTCAGGACTCC...   \n",
            "3          1.852980  GCCTTCGCCCCCGACTTACCTCTTTTCTGAGGGCGTCCAGGATGAG...   \n",
            "4          1.130630  GGATCGCTTTAGCCTGGCAGGCGGAGGTTGCAATGAGATGAGATCG...   \n",
            "...             ...                                                ...   \n",
            "145661     0.000000  NNNNNNNNNNNNNNNNNNNNNNNNNNNNNNNNNNNNNNNNNNNNNN...   \n",
            "145662     0.000000  NNNNNNNNNNNNNNNNNNNNNNNNNNNNNNNNNNNNNNNNNNNNNN...   \n",
            "145663     0.000000  NNNNNNNNNNNNNNNNNNNNNNNNNNNNNNNNNNNNNNNNNNNNNN...   \n",
            "145664     0.000000  TTTAAATAATCAACAATTAAAGGGAATACATCAACATTATTTAATA...   \n",
            "145665     0.000000  NNNNNNNNNNNNNNNNNNNNNNNNNNNNNNNNNNNNNNNNNNNNNN...   \n",
            "\n",
            "        accessibility  \n",
            "0                 1.0  \n",
            "1                 1.0  \n",
            "2                 1.0  \n",
            "3                 1.0  \n",
            "4                 1.0  \n",
            "...               ...  \n",
            "145661            0.0  \n",
            "145662            0.0  \n",
            "145663            0.0  \n",
            "145664            0.0  \n",
            "145665            0.0  \n",
            "\n",
            "[145666 rows x 3 columns]\n"
          ]
        }
      ]
    },
    {
      "cell_type": "code",
      "source": [
        "X = combined_df.iloc[:, -3:]\n",
        "y = combined_df['accessibility']"
      ],
      "metadata": {
        "id": "KzTehi4KVecN"
      },
      "execution_count": null,
      "outputs": []
    },
    {
      "cell_type": "code",
      "source": [
        "X_train, X_chunk, y_train, y_chunk = train_test_split(X, y, test_size=0.2, random_state=42)\n",
        "\n",
        "X_valid, X_test, y_valid, y_test = train_test_split(X_chunk, y_chunk, test_size=0.5, random_state=42)\n",
        "\n",
        "# train\n",
        "\n",
        "train_csv = pd.concat([X_train, y_train], axis = 1)\n",
        "\n",
        "train_csv.reset_index(drop = True, inplace = True)\n",
        "\n",
        "\n",
        "\n",
        "# valid\n",
        "\n",
        "valid_csv = pd.concat([X_valid, y_valid], axis = 1)\n",
        "\n",
        "valid_csv.reset_index(drop = True, inplace = True)\n",
        "\n",
        "\n",
        "\n",
        "# test\n",
        "\n",
        "test_csv = pd.concat([X_test, y_test], axis = 1)\n",
        "\n",
        "test_csv.reset_index(drop = True, inplace = True)"
      ],
      "metadata": {
        "id": "5AZjcQazV4dp"
      },
      "execution_count": null,
      "outputs": []
    },
    {
      "cell_type": "code",
      "source": [
        "print(train_csv.shape)\n",
        "print(valid_csv.shape)\n",
        "print(test_csv.shape)"
      ],
      "metadata": {
        "colab": {
          "base_uri": "https://localhost:8080/"
        },
        "id": "XK2BKWiSWZ7y",
        "outputId": "917950a2-e55d-41d4-dea6-aa5d724c06e2"
      },
      "execution_count": null,
      "outputs": [
        {
          "output_type": "stream",
          "name": "stdout",
          "text": [
            "(116532, 4)\n",
            "(14567, 4)\n",
            "(14567, 4)\n"
          ]
        }
      ]
    },
    {
      "cell_type": "code",
      "source": [
        "train_csv.head()"
      ],
      "metadata": {
        "colab": {
          "base_uri": "https://localhost:8080/",
          "height": 201
        },
        "id": "j8RD2o6lZ4Wc",
        "outputId": "15866c1a-5c5c-4c4a-9f9b-399bf2a776eb"
      },
      "execution_count": null,
      "outputs": [
        {
          "output_type": "execute_result",
          "data": {
            "text/plain": [
              "   signalValue                                           sequence  \\\n",
              "0     0.000000  AGATCCTGTGGTAGGAAGGACATTAGTGAGTATGAGGAATGGAAGA...   \n",
              "1     0.000000  NNNNNNNNNNNNNNNNNNNNNNNNNNNNNNNNNNNNNNNNNNNNNN...   \n",
              "2     0.471098  CTTAGAGTATCCGGACTGACACATAGGGAGGAGTGGGCAGAATAGC...   \n",
              "3     1.224850  GGTACAATAGTAAATAAGATAGGTAAGATAGTAACAGACTTAATGG...   \n",
              "4     4.020030  GAACCTGCTGAAATGCTGCAGGGATTTCAGGCAAGTTAGCCTTGGC...   \n",
              "\n",
              "   accessibility  accessibility  \n",
              "0            0.0            0.0  \n",
              "1            0.0            0.0  \n",
              "2            1.0            1.0  \n",
              "3            1.0            1.0  \n",
              "4            1.0            1.0  "
            ],
            "text/html": [
              "\n",
              "  <div id=\"df-46ead8dc-4d88-4566-a32f-2995719bbec3\" class=\"colab-df-container\">\n",
              "    <div>\n",
              "<style scoped>\n",
              "    .dataframe tbody tr th:only-of-type {\n",
              "        vertical-align: middle;\n",
              "    }\n",
              "\n",
              "    .dataframe tbody tr th {\n",
              "        vertical-align: top;\n",
              "    }\n",
              "\n",
              "    .dataframe thead th {\n",
              "        text-align: right;\n",
              "    }\n",
              "</style>\n",
              "<table border=\"1\" class=\"dataframe\">\n",
              "  <thead>\n",
              "    <tr style=\"text-align: right;\">\n",
              "      <th></th>\n",
              "      <th>signalValue</th>\n",
              "      <th>sequence</th>\n",
              "      <th>accessibility</th>\n",
              "      <th>accessibility</th>\n",
              "    </tr>\n",
              "  </thead>\n",
              "  <tbody>\n",
              "    <tr>\n",
              "      <th>0</th>\n",
              "      <td>0.000000</td>\n",
              "      <td>AGATCCTGTGGTAGGAAGGACATTAGTGAGTATGAGGAATGGAAGA...</td>\n",
              "      <td>0.0</td>\n",
              "      <td>0.0</td>\n",
              "    </tr>\n",
              "    <tr>\n",
              "      <th>1</th>\n",
              "      <td>0.000000</td>\n",
              "      <td>NNNNNNNNNNNNNNNNNNNNNNNNNNNNNNNNNNNNNNNNNNNNNN...</td>\n",
              "      <td>0.0</td>\n",
              "      <td>0.0</td>\n",
              "    </tr>\n",
              "    <tr>\n",
              "      <th>2</th>\n",
              "      <td>0.471098</td>\n",
              "      <td>CTTAGAGTATCCGGACTGACACATAGGGAGGAGTGGGCAGAATAGC...</td>\n",
              "      <td>1.0</td>\n",
              "      <td>1.0</td>\n",
              "    </tr>\n",
              "    <tr>\n",
              "      <th>3</th>\n",
              "      <td>1.224850</td>\n",
              "      <td>GGTACAATAGTAAATAAGATAGGTAAGATAGTAACAGACTTAATGG...</td>\n",
              "      <td>1.0</td>\n",
              "      <td>1.0</td>\n",
              "    </tr>\n",
              "    <tr>\n",
              "      <th>4</th>\n",
              "      <td>4.020030</td>\n",
              "      <td>GAACCTGCTGAAATGCTGCAGGGATTTCAGGCAAGTTAGCCTTGGC...</td>\n",
              "      <td>1.0</td>\n",
              "      <td>1.0</td>\n",
              "    </tr>\n",
              "  </tbody>\n",
              "</table>\n",
              "</div>\n",
              "    <div class=\"colab-df-buttons\">\n",
              "\n",
              "  <div class=\"colab-df-container\">\n",
              "    <button class=\"colab-df-convert\" onclick=\"convertToInteractive('df-46ead8dc-4d88-4566-a32f-2995719bbec3')\"\n",
              "            title=\"Convert this dataframe to an interactive table.\"\n",
              "            style=\"display:none;\">\n",
              "\n",
              "  <svg xmlns=\"http://www.w3.org/2000/svg\" height=\"24px\" viewBox=\"0 -960 960 960\">\n",
              "    <path d=\"M120-120v-720h720v720H120Zm60-500h600v-160H180v160Zm220 220h160v-160H400v160Zm0 220h160v-160H400v160ZM180-400h160v-160H180v160Zm440 0h160v-160H620v160ZM180-180h160v-160H180v160Zm440 0h160v-160H620v160Z\"/>\n",
              "  </svg>\n",
              "    </button>\n",
              "\n",
              "  <style>\n",
              "    .colab-df-container {\n",
              "      display:flex;\n",
              "      gap: 12px;\n",
              "    }\n",
              "\n",
              "    .colab-df-convert {\n",
              "      background-color: #E8F0FE;\n",
              "      border: none;\n",
              "      border-radius: 50%;\n",
              "      cursor: pointer;\n",
              "      display: none;\n",
              "      fill: #1967D2;\n",
              "      height: 32px;\n",
              "      padding: 0 0 0 0;\n",
              "      width: 32px;\n",
              "    }\n",
              "\n",
              "    .colab-df-convert:hover {\n",
              "      background-color: #E2EBFA;\n",
              "      box-shadow: 0px 1px 2px rgba(60, 64, 67, 0.3), 0px 1px 3px 1px rgba(60, 64, 67, 0.15);\n",
              "      fill: #174EA6;\n",
              "    }\n",
              "\n",
              "    .colab-df-buttons div {\n",
              "      margin-bottom: 4px;\n",
              "    }\n",
              "\n",
              "    [theme=dark] .colab-df-convert {\n",
              "      background-color: #3B4455;\n",
              "      fill: #D2E3FC;\n",
              "    }\n",
              "\n",
              "    [theme=dark] .colab-df-convert:hover {\n",
              "      background-color: #434B5C;\n",
              "      box-shadow: 0px 1px 3px 1px rgba(0, 0, 0, 0.15);\n",
              "      filter: drop-shadow(0px 1px 2px rgba(0, 0, 0, 0.3));\n",
              "      fill: #FFFFFF;\n",
              "    }\n",
              "  </style>\n",
              "\n",
              "    <script>\n",
              "      const buttonEl =\n",
              "        document.querySelector('#df-46ead8dc-4d88-4566-a32f-2995719bbec3 button.colab-df-convert');\n",
              "      buttonEl.style.display =\n",
              "        google.colab.kernel.accessAllowed ? 'block' : 'none';\n",
              "\n",
              "      async function convertToInteractive(key) {\n",
              "        const element = document.querySelector('#df-46ead8dc-4d88-4566-a32f-2995719bbec3');\n",
              "        const dataTable =\n",
              "          await google.colab.kernel.invokeFunction('convertToInteractive',\n",
              "                                                    [key], {});\n",
              "        if (!dataTable) return;\n",
              "\n",
              "        const docLinkHtml = 'Like what you see? Visit the ' +\n",
              "          '<a target=\"_blank\" href=https://colab.research.google.com/notebooks/data_table.ipynb>data table notebook</a>'\n",
              "          + ' to learn more about interactive tables.';\n",
              "        element.innerHTML = '';\n",
              "        dataTable['output_type'] = 'display_data';\n",
              "        await google.colab.output.renderOutput(dataTable, element);\n",
              "        const docLink = document.createElement('div');\n",
              "        docLink.innerHTML = docLinkHtml;\n",
              "        element.appendChild(docLink);\n",
              "      }\n",
              "    </script>\n",
              "  </div>\n",
              "\n",
              "\n",
              "<div id=\"df-4cf9545e-ae03-4553-bdfa-b64283ae4e33\">\n",
              "  <button class=\"colab-df-quickchart\" onclick=\"quickchart('df-4cf9545e-ae03-4553-bdfa-b64283ae4e33')\"\n",
              "            title=\"Suggest charts\"\n",
              "            style=\"display:none;\">\n",
              "\n",
              "<svg xmlns=\"http://www.w3.org/2000/svg\" height=\"24px\"viewBox=\"0 0 24 24\"\n",
              "     width=\"24px\">\n",
              "    <g>\n",
              "        <path d=\"M19 3H5c-1.1 0-2 .9-2 2v14c0 1.1.9 2 2 2h14c1.1 0 2-.9 2-2V5c0-1.1-.9-2-2-2zM9 17H7v-7h2v7zm4 0h-2V7h2v10zm4 0h-2v-4h2v4z\"/>\n",
              "    </g>\n",
              "</svg>\n",
              "  </button>\n",
              "\n",
              "<style>\n",
              "  .colab-df-quickchart {\n",
              "      --bg-color: #E8F0FE;\n",
              "      --fill-color: #1967D2;\n",
              "      --hover-bg-color: #E2EBFA;\n",
              "      --hover-fill-color: #174EA6;\n",
              "      --disabled-fill-color: #AAA;\n",
              "      --disabled-bg-color: #DDD;\n",
              "  }\n",
              "\n",
              "  [theme=dark] .colab-df-quickchart {\n",
              "      --bg-color: #3B4455;\n",
              "      --fill-color: #D2E3FC;\n",
              "      --hover-bg-color: #434B5C;\n",
              "      --hover-fill-color: #FFFFFF;\n",
              "      --disabled-bg-color: #3B4455;\n",
              "      --disabled-fill-color: #666;\n",
              "  }\n",
              "\n",
              "  .colab-df-quickchart {\n",
              "    background-color: var(--bg-color);\n",
              "    border: none;\n",
              "    border-radius: 50%;\n",
              "    cursor: pointer;\n",
              "    display: none;\n",
              "    fill: var(--fill-color);\n",
              "    height: 32px;\n",
              "    padding: 0;\n",
              "    width: 32px;\n",
              "  }\n",
              "\n",
              "  .colab-df-quickchart:hover {\n",
              "    background-color: var(--hover-bg-color);\n",
              "    box-shadow: 0 1px 2px rgba(60, 64, 67, 0.3), 0 1px 3px 1px rgba(60, 64, 67, 0.15);\n",
              "    fill: var(--button-hover-fill-color);\n",
              "  }\n",
              "\n",
              "  .colab-df-quickchart-complete:disabled,\n",
              "  .colab-df-quickchart-complete:disabled:hover {\n",
              "    background-color: var(--disabled-bg-color);\n",
              "    fill: var(--disabled-fill-color);\n",
              "    box-shadow: none;\n",
              "  }\n",
              "\n",
              "  .colab-df-spinner {\n",
              "    border: 2px solid var(--fill-color);\n",
              "    border-color: transparent;\n",
              "    border-bottom-color: var(--fill-color);\n",
              "    animation:\n",
              "      spin 1s steps(1) infinite;\n",
              "  }\n",
              "\n",
              "  @keyframes spin {\n",
              "    0% {\n",
              "      border-color: transparent;\n",
              "      border-bottom-color: var(--fill-color);\n",
              "      border-left-color: var(--fill-color);\n",
              "    }\n",
              "    20% {\n",
              "      border-color: transparent;\n",
              "      border-left-color: var(--fill-color);\n",
              "      border-top-color: var(--fill-color);\n",
              "    }\n",
              "    30% {\n",
              "      border-color: transparent;\n",
              "      border-left-color: var(--fill-color);\n",
              "      border-top-color: var(--fill-color);\n",
              "      border-right-color: var(--fill-color);\n",
              "    }\n",
              "    40% {\n",
              "      border-color: transparent;\n",
              "      border-right-color: var(--fill-color);\n",
              "      border-top-color: var(--fill-color);\n",
              "    }\n",
              "    60% {\n",
              "      border-color: transparent;\n",
              "      border-right-color: var(--fill-color);\n",
              "    }\n",
              "    80% {\n",
              "      border-color: transparent;\n",
              "      border-right-color: var(--fill-color);\n",
              "      border-bottom-color: var(--fill-color);\n",
              "    }\n",
              "    90% {\n",
              "      border-color: transparent;\n",
              "      border-bottom-color: var(--fill-color);\n",
              "    }\n",
              "  }\n",
              "</style>\n",
              "\n",
              "  <script>\n",
              "    async function quickchart(key) {\n",
              "      const quickchartButtonEl =\n",
              "        document.querySelector('#' + key + ' button');\n",
              "      quickchartButtonEl.disabled = true;  // To prevent multiple clicks.\n",
              "      quickchartButtonEl.classList.add('colab-df-spinner');\n",
              "      try {\n",
              "        const charts = await google.colab.kernel.invokeFunction(\n",
              "            'suggestCharts', [key], {});\n",
              "      } catch (error) {\n",
              "        console.error('Error during call to suggestCharts:', error);\n",
              "      }\n",
              "      quickchartButtonEl.classList.remove('colab-df-spinner');\n",
              "      quickchartButtonEl.classList.add('colab-df-quickchart-complete');\n",
              "    }\n",
              "    (() => {\n",
              "      let quickchartButtonEl =\n",
              "        document.querySelector('#df-4cf9545e-ae03-4553-bdfa-b64283ae4e33 button');\n",
              "      quickchartButtonEl.style.display =\n",
              "        google.colab.kernel.accessAllowed ? 'block' : 'none';\n",
              "    })();\n",
              "  </script>\n",
              "</div>\n",
              "\n",
              "    </div>\n",
              "  </div>\n"
            ],
            "application/vnd.google.colaboratory.intrinsic+json": {
              "type": "dataframe",
              "variable_name": "train_csv"
            }
          },
          "metadata": {},
          "execution_count": 27
        }
      ]
    },
    {
      "cell_type": "code",
      "source": [
        "train_csv.to_csv('/content/drive/MyDrive/1:1_Atharv_Gupta/Datasets/joined_train_random_1k.csv', index = False)\n",
        "valid_csv.to_csv('/content/drive/MyDrive/1:1_Atharv_Gupta/Datasets/joined_valid_random_1k.csv', index = False)\n",
        "test_csv.to_csv('/content/drive/MyDrive/1:1_Atharv_Gupta/Datasets/joined_test_random_1k.csv', index = False)"
      ],
      "metadata": {
        "id": "Rd7T64S-Wtid"
      },
      "execution_count": null,
      "outputs": []
    },
    {
      "cell_type": "code",
      "source": [],
      "metadata": {
        "id": "dIwqgvqIXBDl"
      },
      "execution_count": null,
      "outputs": []
    }
  ]
}